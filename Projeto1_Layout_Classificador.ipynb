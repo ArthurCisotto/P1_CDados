{
 "cells": [
  {
   "cell_type": "markdown",
   "metadata": {},
   "source": [
    "# Projeto 1 - Ciência dos Dados"
   ]
  },
  {
   "cell_type": "markdown",
   "metadata": {},
   "source": [
    "Nome: Arthur Cisotto Machado\r\n",
    "\r\n",
    "Nome: Alessandra Yumi Carvalho Ogawa"
   ]
  },
  {
   "cell_type": "markdown",
   "metadata": {},
   "source": [
    "Atenção: Serão permitidos grupos de três pessoas, mas com uma rubrica mais exigente. Grupos deste tamanho precisarão fazer um questionário de avaliação de trabalho em equipe"
   ]
  },
  {
   "cell_type": "markdown",
   "metadata": {},
   "source": [
    "___\n",
    "Carregando algumas bibliotecas:"
   ]
  },
  {
   "cell_type": "code",
   "execution_count": 1,
   "metadata": {},
   "outputs": [],
   "source": [
    "%matplotlib inline\r\n",
    "import pandas as pd\r\n",
    "import matplotlib.pyplot as plt\r\n",
    "import numpy as np\r\n",
    "import os"
   ]
  },
  {
   "cell_type": "code",
   "execution_count": 2,
   "metadata": {
    "scrolled": false
   },
   "outputs": [
    {
     "name": "stdout",
     "output_type": "stream",
     "text": [
      "Esperamos trabalhar no diretório\n",
      "/Users/alessandrayumiogawa/Documents/INSPER/INSPER - 2A/C-DADOS/P1_CDados\n"
     ]
    }
   ],
   "source": [
    "print('Esperamos trabalhar no diretório')\r\n",
    "print(os.getcwd())"
   ]
  },
  {
   "cell_type": "markdown",
   "metadata": {},
   "source": [
    "Carregando a base de dados com os tweets classificados como relevantes e não relevantes:"
   ]
  },
  {
   "cell_type": "code",
   "execution_count": 62,
   "metadata": {},
   "outputs": [],
   "source": [
    "# https://docs.python.org/3/library/re.html#\n",
    "import re \n",
    "\n",
    "\n",
    "def cleanup(text):\n",
    "    \"\"\"\n",
    "        Função de limpeza muito simples que troca alguns sinais básicos por espaços\n",
    "    \"\"\"\n",
    "    #import string\n",
    "    punctuation = '[\\\\n:;?\\\"\\'().,]' # Note que os sinais [] são delimitadores de um conjunto.\n",
    "    pattern = re.compile(punctuation)\n",
    "    text_subbed = re.sub(pattern, ' ', text)\n",
    "    text_split = text_subbed.split()\n",
    "    return ' '.join(text_split)"
   ]
  },
  {
   "cell_type": "code",
   "execution_count": 63,
   "metadata": {},
   "outputs": [],
   "source": [
    "filename = 'la casa de papel.xlsx'"
   ]
  },
  {
   "cell_type": "code",
   "execution_count": 64,
   "metadata": {},
   "outputs": [
    {
     "data": {
      "text/html": "<div>\n<style scoped>\n    .dataframe tbody tr th:only-of-type {\n        vertical-align: middle;\n    }\n\n    .dataframe tbody tr th {\n        vertical-align: top;\n    }\n\n    .dataframe thead th {\n        text-align: right;\n    }\n</style>\n<table border=\"1\" class=\"dataframe\">\n  <thead>\n    <tr style=\"text-align: right;\">\n      <th></th>\n      <th>Treinamento</th>\n      <th>Classificação (relevante = 1, não relevante = 0)</th>\n    </tr>\n  </thead>\n  <tbody>\n    <tr>\n      <th>0</th>\n      <td>tô vendo la casa de papel mdssss o primeiro ep...</td>\n      <td>1.0</td>\n    </tr>\n    <tr>\n      <th>1</th>\n      <td>agora vou assistir lá casa de papel e dormir p...</td>\n      <td>0.0</td>\n    </tr>\n    <tr>\n      <th>2</th>\n      <td>dedo coçando pra assistir lá casa de papel mas...</td>\n      <td>0.0</td>\n    </tr>\n    <tr>\n      <th>3</th>\n      <td>la casa de papel me faz torcer pros bandidos</td>\n      <td>1.0</td>\n    </tr>\n    <tr>\n      <th>4</th>\n      <td>la casa de papel acabou comigo me encontro des...</td>\n      <td>1.0</td>\n    </tr>\n  </tbody>\n</table>\n</div>",
      "text/plain": "                                         Treinamento  \\\n0  tô vendo la casa de papel mdssss o primeiro ep...   \n1  agora vou assistir lá casa de papel e dormir p...   \n2  dedo coçando pra assistir lá casa de papel mas...   \n3       la casa de papel me faz torcer pros bandidos   \n4  la casa de papel acabou comigo me encontro des...   \n\n   Classificação (relevante = 1, não relevante = 0)  \n0                                               1.0  \n1                                               0.0  \n2                                               0.0  \n3                                               1.0  \n4                                               1.0  "
     },
     "execution_count": 64,
     "metadata": {},
     "output_type": "execute_result"
    }
   ],
   "source": [
    "train = pd.read_excel(filename)\n",
    "train['Treinamento'] = train['Treinamento'].apply(cleanup)\n",
    "train.head(5)"
   ]
  },
  {
   "cell_type": "code",
   "execution_count": 65,
   "metadata": {},
   "outputs": [
    {
     "data": {
      "text/html": "<div>\n<style scoped>\n    .dataframe tbody tr th:only-of-type {\n        vertical-align: middle;\n    }\n\n    .dataframe tbody tr th {\n        vertical-align: top;\n    }\n\n    .dataframe thead th {\n        text-align: right;\n    }\n</style>\n<table border=\"1\" class=\"dataframe\">\n  <thead>\n    <tr style=\"text-align: right;\">\n      <th></th>\n      <th>Teste</th>\n      <th>Classificação (relevante = 1, não relevante = 0)</th>\n    </tr>\n  </thead>\n  <tbody>\n    <tr>\n      <th>0</th>\n      <td>quero terminar de ver a nova parte de la casa ...</td>\n      <td>0</td>\n    </tr>\n    <tr>\n      <th>1</th>\n      <td>não existe outra série no mundo que mexa comig...</td>\n      <td>1</td>\n    </tr>\n    <tr>\n      <th>2</th>\n      <td>tá foda de desviar de todos os spoilers de la ...</td>\n      <td>1</td>\n    </tr>\n    <tr>\n      <th>3</th>\n      <td>@todoroki_jun2 né tô me sentindo em lá casa de...</td>\n      <td>0</td>\n    </tr>\n    <tr>\n      <th>4</th>\n      <td>la casa de papel é tão ruim que nem consegui t...</td>\n      <td>1</td>\n    </tr>\n  </tbody>\n</table>\n</div>",
      "text/plain": "                                               Teste  \\\n0  quero terminar de ver a nova parte de la casa ...   \n1  não existe outra série no mundo que mexa comig...   \n2  tá foda de desviar de todos os spoilers de la ...   \n3  @todoroki_jun2 né tô me sentindo em lá casa de...   \n4  la casa de papel é tão ruim que nem consegui t...   \n\n   Classificação (relevante = 1, não relevante = 0)  \n0                                                 0  \n1                                                 1  \n2                                                 1  \n3                                                 0  \n4                                                 1  "
     },
     "execution_count": 65,
     "metadata": {},
     "output_type": "execute_result"
    }
   ],
   "source": [
    "test = pd.read_excel(filename, sheet_name = 'Teste')\n",
    "test.head(5)"
   ]
  },
  {
   "cell_type": "code",
   "execution_count": null,
   "metadata": {},
   "outputs": [],
   "source": []
  },
  {
   "cell_type": "markdown",
   "metadata": {},
   "source": [
    "___\n",
    "## Classificador automático de sentimento\n"
   ]
  },
  {
   "cell_type": "markdown",
   "metadata": {},
   "source": [
    "Faça aqui uma descrição do seu produto e o que considerou como relevante ou não relevante na classificação dos tweets.\r\n",
    "\r\n",
    "ESCREVA AQUI...\r\n",
    "\r\n",
    "O produto escolhido para análise é a série La Casa de Papel da Netflix e Vancouver Media. \r\n",
    "\r\n",
    "Classificamos como relevantes tweets que mostravam a opinião e sentimentos, sejam eles positivos ou negativos, sobre a série.\r\n",
    "*Consideramos tweets relacionados a spoilers como relevantes pois eles também demonstram um forte sentimento que as pessoas possuem em relação à série.\r\n",
    "\r\n",
    "Classificamos como não relevantes tweets que não se encaixaram na nossa classificação de relevância, tweets que falavam sobre tópicos pessoais ou tweets que falavam sobre algum personagem específico da série.\r\n"
   ]
  },
  {
   "cell_type": "markdown",
   "metadata": {},
   "source": [
    "___\n",
    "### Montando um Classificador Naive-Bayes\n",
    "\n",
    "Considerando apenas as mensagens da planilha Treinamento, ensine  seu classificador."
   ]
  },
  {
   "cell_type": "code",
   "execution_count": 66,
   "metadata": {},
   "outputs": [],
   "source": [
    "filtro_nao_relevante = train['Classificação (relevante = 1, não relevante = 0)']==0\n",
    "filtro_relevante = train['Classificação (relevante = 1, não relevante = 0)']==1\n"
   ]
  },
  {
   "cell_type": "code",
   "execution_count": 67,
   "metadata": {},
   "outputs": [],
   "source": [
    "relevantes_train = train[filtro_relevante]\n",
    "nao_relevantes_train = train[filtro_nao_relevante]"
   ]
  },
  {
   "cell_type": "code",
   "execution_count": 68,
   "metadata": {},
   "outputs": [
    {
     "data": {
      "text/html": "<div>\n<style scoped>\n    .dataframe tbody tr th:only-of-type {\n        vertical-align: middle;\n    }\n\n    .dataframe tbody tr th {\n        vertical-align: top;\n    }\n\n    .dataframe thead th {\n        text-align: right;\n    }\n</style>\n<table border=\"1\" class=\"dataframe\">\n  <thead>\n    <tr style=\"text-align: right;\">\n      <th></th>\n      <th>Treinamento</th>\n      <th>Classificação (relevante = 1, não relevante = 0)</th>\n    </tr>\n  </thead>\n  <tbody>\n    <tr>\n      <th>0</th>\n      <td>tô vendo la casa de papel mdssss o primeiro ep...</td>\n      <td>1.0</td>\n    </tr>\n    <tr>\n      <th>3</th>\n      <td>la casa de papel me faz torcer pros bandidos</td>\n      <td>1.0</td>\n    </tr>\n    <tr>\n      <th>4</th>\n      <td>la casa de papel acabou comigo me encontro des...</td>\n      <td>1.0</td>\n    </tr>\n    <tr>\n      <th>5</th>\n      <td>nossa mas que inferno esse final de lá casa de...</td>\n      <td>1.0</td>\n    </tr>\n    <tr>\n      <th>6</th>\n      <td>vey chorei em vis a via igual uma criança agor...</td>\n      <td>1.0</td>\n    </tr>\n    <tr>\n      <th>...</th>\n      <td>...</td>\n      <td>...</td>\n    </tr>\n    <tr>\n      <th>291</th>\n      <td>eu não chorei vendo lá casa de papel não né 🤡</td>\n      <td>1.0</td>\n    </tr>\n    <tr>\n      <th>296</th>\n      <td>eu achei que nenhuma morte de la casa de papel...</td>\n      <td>1.0</td>\n    </tr>\n    <tr>\n      <th>297</th>\n      <td>caralho eu to chorando igual uma vagabunda com...</td>\n      <td>1.0</td>\n    </tr>\n    <tr>\n      <th>298</th>\n      <td>cara eu nunca chorei tanto quanto eu chorei ol...</td>\n      <td>1.0</td>\n    </tr>\n    <tr>\n      <th>299</th>\n      <td>o que caralhos foi isso em la casa de papel</td>\n      <td>1.0</td>\n    </tr>\n  </tbody>\n</table>\n<p>201 rows × 2 columns</p>\n</div>",
      "text/plain": "                                           Treinamento  \\\n0    tô vendo la casa de papel mdssss o primeiro ep...   \n3         la casa de papel me faz torcer pros bandidos   \n4    la casa de papel acabou comigo me encontro des...   \n5    nossa mas que inferno esse final de lá casa de...   \n6    vey chorei em vis a via igual uma criança agor...   \n..                                                 ...   \n291      eu não chorei vendo lá casa de papel não né 🤡   \n296  eu achei que nenhuma morte de la casa de papel...   \n297  caralho eu to chorando igual uma vagabunda com...   \n298  cara eu nunca chorei tanto quanto eu chorei ol...   \n299        o que caralhos foi isso em la casa de papel   \n\n     Classificação (relevante = 1, não relevante = 0)  \n0                                                 1.0  \n3                                                 1.0  \n4                                                 1.0  \n5                                                 1.0  \n6                                                 1.0  \n..                                                ...  \n291                                               1.0  \n296                                               1.0  \n297                                               1.0  \n298                                               1.0  \n299                                               1.0  \n\n[201 rows x 2 columns]"
     },
     "execution_count": 68,
     "metadata": {},
     "output_type": "execute_result"
    }
   ],
   "source": [
    "relevantes_train"
   ]
  },
  {
   "cell_type": "code",
   "execution_count": 69,
   "metadata": {},
   "outputs": [
    {
     "data": {
      "text/html": "<div>\n<style scoped>\n    .dataframe tbody tr th:only-of-type {\n        vertical-align: middle;\n    }\n\n    .dataframe tbody tr th {\n        vertical-align: top;\n    }\n\n    .dataframe thead th {\n        text-align: right;\n    }\n</style>\n<table border=\"1\" class=\"dataframe\">\n  <thead>\n    <tr style=\"text-align: right;\">\n      <th></th>\n      <th>Treinamento</th>\n      <th>Classificação (relevante = 1, não relevante = 0)</th>\n    </tr>\n  </thead>\n  <tbody>\n    <tr>\n      <th>1</th>\n      <td>agora vou assistir lá casa de papel e dormir p...</td>\n      <td>0.0</td>\n    </tr>\n    <tr>\n      <th>2</th>\n      <td>dedo coçando pra assistir lá casa de papel mas...</td>\n      <td>0.0</td>\n    </tr>\n    <tr>\n      <th>10</th>\n      <td>denver o maior de la casa de papel e ngm me co...</td>\n      <td>0.0</td>\n    </tr>\n    <tr>\n      <th>12</th>\n      <td>o rio de lá casa de papel é maior prova de que...</td>\n      <td>0.0</td>\n    </tr>\n    <tr>\n      <th>13</th>\n      <td>krl vi agora q to vendo a psrte 4 de la casa d...</td>\n      <td>0.0</td>\n    </tr>\n    <tr>\n      <th>...</th>\n      <td>...</td>\n      <td>...</td>\n    </tr>\n    <tr>\n      <th>290</th>\n      <td>lucas tem que parar de me dar spoiler de la ca...</td>\n      <td>0.0</td>\n    </tr>\n    <tr>\n      <th>292</th>\n      <td>faltou só ela pra maratonar la casa de papel cmg</td>\n      <td>0.0</td>\n    </tr>\n    <tr>\n      <th>293</th>\n      <td>odeio mt essa grávida de la casa de papel q tr...</td>\n      <td>0.0</td>\n    </tr>\n    <tr>\n      <th>294</th>\n      <td>@flaviagasi se pá tem uns que acham que é la c...</td>\n      <td>0.0</td>\n    </tr>\n    <tr>\n      <th>295</th>\n      <td>tô aqui assistindo la casa de papel mesmo depo...</td>\n      <td>0.0</td>\n    </tr>\n  </tbody>\n</table>\n<p>98 rows × 2 columns</p>\n</div>",
      "text/plain": "                                           Treinamento  \\\n1    agora vou assistir lá casa de papel e dormir p...   \n2    dedo coçando pra assistir lá casa de papel mas...   \n10   denver o maior de la casa de papel e ngm me co...   \n12   o rio de lá casa de papel é maior prova de que...   \n13   krl vi agora q to vendo a psrte 4 de la casa d...   \n..                                                 ...   \n290  lucas tem que parar de me dar spoiler de la ca...   \n292   faltou só ela pra maratonar la casa de papel cmg   \n293  odeio mt essa grávida de la casa de papel q tr...   \n294  @flaviagasi se pá tem uns que acham que é la c...   \n295  tô aqui assistindo la casa de papel mesmo depo...   \n\n     Classificação (relevante = 1, não relevante = 0)  \n1                                                 0.0  \n2                                                 0.0  \n10                                                0.0  \n12                                                0.0  \n13                                                0.0  \n..                                                ...  \n290                                               0.0  \n292                                               0.0  \n293                                               0.0  \n294                                               0.0  \n295                                               0.0  \n\n[98 rows x 2 columns]"
     },
     "execution_count": 69,
     "metadata": {},
     "output_type": "execute_result"
    }
   ],
   "source": [
    "nao_relevantes_train"
   ]
  },
  {
   "cell_type": "markdown",
   "metadata": {},
   "source": [
    "# Base de Teste"
   ]
  },
  {
   "cell_type": "code",
   "execution_count": 70,
   "metadata": {},
   "outputs": [
    {
     "data": {
      "text/plain": "' tô vendo la casa de papel mdssss o primeiro ep já foi de tirar o fôlego la casa de papel me faz torcer pros bandidos la casa de papel acabou comigo me encontro desidratada de tanto chorar! nossa mas que inferno esse final de lá casa de papel vey chorei em vis a via igual uma criança agora em lá de casa de papel pqp! eu to chorando com esse último episódio de la casa de papel mano 😭 esperei uma eternidade pra sair a 5° temporada de la casa de papel pra assistir em 1 dia kkkk e vamos de esperar mais uma vida p 6° temporada😩 la casa de papel vai se fude que odio meu deus nunca mais vou assistir lá casa de papel obrigado la casa de papel por me fazer chorar sem parar novamente como que cagaram no pau com la casa de papel assim mdeus tava bom so com 3 temporadas assisti la casa de papel q lixo pqp falta só um ep da lá casa de papel pra acabar e eu não queria acabar agr pq eu já peguei um spoiler da tokio que eu não vou aceitar 😢 a morte da toquio foi triste demais la casa de papel como você fez isso comigo me diz assistindo la casa de papel tudo dnv pq agora minha mãe ta viciada🥰🥰🥰 e essa parte 5 de “la casa de papel” pqp assisti o final de la casa de papel 3x e chorei nas 3 kkj depois desse final nao tenho motivos para assistir a segunda parte de la casa de papel la casa de papel vc não tinha o direito 🤧🤧🤧🤧🤧🤧🤧 eu to no chão com esse final da primeira parte de la casa de papel la casa de papel é muito bom né porra eu tinha esquecido o quanto era apaixonada por la casa de papel 😍 não creio que estou chorando horrores por la casa de papel +1 vez 🥺 ignorei as redes sociais a semana inteira pra não ver spoiler de lá casa de papel quase dropando la casa de papel amigas sla tô achando muito repetitivo https //t co/tbrrabmzgp assistindo pela segunda vez a morte de * em la casa de papel 😭😭😭😭😭😭😭😭😭 a primeira temporada de la casa de papel foi sensacional parece que a netflix pegou só para avacalhar com ela mesmo eu qr terminar de assistir la casa de papel mas aaaah já deu não aceito esse final de la casa de papel netflix eu nunca vou te perdoar !😭 falei mal de quem gosta de la casa de papel e agora tô eu aqui com a minha mãe quase morrendo de nervosa no último episódio tristeza profunda após terminar la casa de papel as vezes eu tenho a impressão q todas as temporadas de lá casa de papel são iguais só queria dizer pra quem escreveu o roteiro de la casa de papel um enorme vai tomar no meio do olho do seu cu seu filho da puta desgraçado decepcionado com la casa de papel to sofrendo até agora pelo último ep só queria socar a cara dessa vagabunda feia que deu spoiler de la casa de papel e eu fiquei tipo uns 3 meses sem assistir la casa de papel e agora tô chorando to desidratada de tanto chorar c o final de la casa de papel eu nem tô chorando com la casa de papel não né como alguem conseguiu assistir la casa de papel de boa puta que pariu!!! cagaram com a série chata pra caralhooooo eu assistindo la casa de papel e vendo a cena da tokyo 🥺 la casa de papel ta bom demais pqp mano eu to puta com la casa de papel boa noite 👍🏼 entrar no twitter se cagando de medo de levar spoiler de la casa de papel alguém mais ta assim mano qq foi esse final da parte de la casa de papel namoral memo vai se fuder no último episódio de la casa de papel ouvi “grândola vila morena” música portuguesa de zeca afonso um verdadeiro símbolo da revolução dos cravos do 25 de abril do fim fo fascismo da liberdade escolheram muito bem a música! assistir la casa de papel=depressão perdi todo interesse por la casa de papel desde quando eu recebi spoiler de praticamente tudo qual a graça em ver agr essa última temp de lá casa de papel tá meio merda né terminei la casa de papel ontem e pqp cagaram com aquele final nmrl falta mt p dia 3 de dezembro quero ver o volume 2 de la casa de papel pra ontemmmmmm aqui na barbearia ninguém mais fala de futebol política ou religião o assunto agora é só lá casa de papel kkk eu não tenho coração pra assistir la casa de papel 🤧🤧🤧🤧 eu percebi que tô deprimida mesmo quando até lá casa de papel me decepcionou chorando horrores c la casa de papel q ódioooooo assistindo la casa de papel de novo pra sofrer pq sou assim 😙✌️ eu vendo la casa de papel e chorando… e com 25 anos pq sou assim chorona e eu tô sofrendo com esse episódio de la casa de papel que ódiooooooo que ódiooooooooooo ai meu coração que ódio 😭😭😩 chorando que bem condenada com o episódio 5 de lá casa de papel alguém poderia me dizer uns spoilers de la casa de papel terminei la casa de papel e to chorando que ódio!! esse final de la casa de papel mexeu cmg não existe lá casa de papel sem tóquio e fim será que foi só eu que achou o final de la casa de papel uma merda tô chorando com esse final de la casa de papel to chorando com la casa de papel estou a chorar com la casa de papel 🥺 depressão pós la casa de papel pq eu sofro tanto vendo la casa de papel vei 😭 eu to so odio de la casa de papel terminei la casa de papel eu to😳 mano que episódio bosta é esse 5º de lá casa de papel 🥺😡😡 chorei igual uma condenada nesse final de la casa de papel ªªª vem dezembro que merda esse final de lá casa de papel achei la casa de papel uma bosta 👍🏻 sobre essa parte 5 de la casa de papel eu n tô sabendo lidar socorro acabei de terminar la casa de papel e eu tô chorando eu não acredito nisso la casa de papel já deu né ! final do lá casa de papel é triste pra crlho chorei com o final de la casa de papel 😪😪😪 ok to chorando dnv com la casa de papel meu juízo tá fraco e eu só choro com essa temp 5 de la casa de papel 😩 vendo la casa de papel desde o início de novo amooo caralho viado eu tô 😭😭😭😭😭 caraio hein la casa de papel nao acredito que vi spoiler de la casa de papel que odieododososoloooo caralho vai se fofer final bem bosta da temporada de la casa de papel depressão pós série motivo la casa de papel estou viúva de la casa de papel cadêeeeeeeee a segunda parte da quinta temporadaaaaaa terminei lá casa de papel e não gostei é isso 👍 lá casa de papel que porra é essa mano que temporada péssima tô morrendo q o final de lá casa de papel foi essa chocada com la casa de papel já peguei mil spoilers de la casa de papel e sinceramente… mas que merda vai se fuder la casa de papel ei o que fizeram com a casa de papel meu porra dilaceraram a tóquio a tiro 😭😭😭😭 doeu lá na alma tomei um spoiler gostoso de la casa de papel que pqp já nem quero ver o episódio citado mais uma temporada que la casa de papel acaba comigo e me faz chorar igual criança como que fica bem depois de assistir la casa de papel la casa de papel acabou na parte 2 realmente como que estragam uma série desse jeito meu deus eu sabrina chorando muito por causa de lá casa de papel! é o fim da vagabunda kkkkkkkkkkkkkkk caralho eu to chorando mt c la casa de papel chorei que nem uma condenada nesse último episódio de la casa de papel me encontro desolado após esse final de temporada de la casa de papel terminei la casa de papel meu mundo caiu la casa de papel mt bom amanhã é dia de cama e netflixxx terminar de assistir la casa de papel meu nome 100% representado em lá casa de papel arrasada com la casa de papel na boa terminei la casa de papel e tô chorando pra caralho beleza netflix que final foi esse da primeira parte de la casa de papel ! 🆘 tô vendo lá casa de papel desde a parte 1 jr tá louco kkkkk eu nunca vi essa série na vida quero ressaltar que me arrependo de feito várias coisas uma delas é ter começado a assistir la casa de papel eu gostava porque é um novelão boa para assistir naquela resseca de domingo o motivo do meu ódio a série mata personagens ah não que droga eu recebi um spoiler do nada de graça de la casa de papel meu como a pessoa solta algo assim na timeline sem indicação nenhuma de qual série era e tal tô impressionada com o tanto de gente q ainda assiste la casa de papel p mim a série ta morta há tempos caralho eu chorei muito agora c lá casa de papel pqp não superei ainda o fim da quinta temporada de la casa de papel 💔🥺 tá me tirando né se tóquio morrer lá casa de papel para de existir to começando achar q shonda virou diretora de la casa de papel toda hora uma morte e sempre de pessoas q o publico é apegado la casa de papel é chato para caralho! até q enfim terminei la casa de papel gente e esse final de la casa de papel 😱 o ruim vai ter que esperar até dezembro para lançar a 2° parte de la casa de papel terminei la casa de papel e sinto que vou me jogar de um predio a qualquer momento minha mãe me mandou um áudio contando o q aconteceu em la casa de papel e agora tô triste nada me tira a paz de hoje pois vou morrer com la casa de papel e pão de queijo ps sem me preocupar com horário amanhã é muita glória 😩🥺 motivos p eu n assistir mais la casa de papel é porque o berlin morreu nairobi morreu e agora a toquio eu juro q n vou assistir ainda tentando assimilar aquele ult ep de la casa de papel essa série la casa de papel é péssima a primeira temporada é a única que se salva depois se arrastou e ficou uma bosta assisti la casa de papel agora e pqp!!!! to vendo aqui a 5° temp de la casa de papel por pura curiosidade e tédio ja que a melhor personagem morreu com um tiro na cabeça na 4° temporada agora nada mais me abala #lacasadepapael5 #lcdp5 meu deus lá casa de papel acabou comigo com esse final como paro de chorar agora terminar de ver lá casa de papel tudo hj ainda 😊 af q final foi esse de lá casa de papel \\U0001f972 la casa de papel 5 tá simplesmente foda! puta merda série boa demais la casa de papel foi boa até a 2ª temporada depois que a netflix comprou a série o roteiro foi ladeira abaixo serio &amp ! $&amp @ ’smskaaaaaaa🥺🥺😭😭😭🥺😭🥺🥺😭🥺😭 o final de la casa de papel pqp eu não aguento mais eu não aceito esse final de la casa de papel pqp n aguento mais chora acabei la casa de papel e agora vou ficar agoniada ate dezembro pra saber o fim la casa de papel me deixou com depressão pensando se assisto la casa de papel é boa 10min do e1 da t5 de la casa de papel e todos saiu todos os xingamentos machistas possíveis pra inspetora sierra que insuportável 😤 agora é maratonar la casa de papel 🥰 fico tão tensa assistindo la casa de papel q parece q é eu que tô roubando um banco eu não tô acreditando que essa não foi a última parte de la casa de papel 🙄 entendi nada essa temporada de la casa de papel la casa de papel é uma merda série filha da puta essa lá casa de papel vai tomar no cu to quase vendo la casa de papel tudo dnv sofredora terminei la casa de papel chorando igual criança a parte 5 de la casa de papel entregou absolutamente tudo que as partes 3 e 4 não entregaram vou assistir la casa de papel logo antes que eu tome um spoilerzão pqp la casa de papel tá me matando do coração alguém assiste la casa de papel me me da um resumao pf to com 0 vontade só eu q não tô gostando dessa temporada de la casa de papel tô no terceiro episódio já e tá tão sem graça mal consegui superar a morte da nairóbi na la casa de papel agora vem e morre a tóquio já pode acabar la casa de papel!! esse ultimo ep d la casa de papel vou pular da ponte 👍 é eu chorei com o final de lá casa de papel e sobre isso né lá casa de papel fode meu psicológico eu tô assim com a o final da primeira parte da 5t de la casa de papel que ódio! kkkkrig https //t co/3jrngzsdmo caralhou la casa de papel tá atacando minha ansiedade gnt ceis acredita que eu assite a lá casa de papel parte 5 fique com uma imensa vontade de assisti tudo de novo e isso que eu tô fazendo falou p ceis kkkkkkkkkk🙌🏻😭 cara é incrível como la casa de papel consegue subir o nível a cada temporada pelo amor de deus perfeito eu não tenho a amor a minha própria vida por continuar vendo la casa de papel um bando de jovem burro que devia ter matado o maldito do arturito na primeira temp terminei la casa de papel estou a cinco minutos imovel em completo silencio *chorando* tá difícil fugir dos spoilers de la casa de papel chorei igual bb com o final de lá casa de papel chateadissima com lá casa de papel… preguiça de assistir la casa de papel la casa de papel para q eu tô sensível era so mais uns 10 episódio novos de la casa de papel 😿😿 la casa de papel está uma bosta a vei cabei de assistir a 5° temporada de la casa de papel e eu nao tô conseguindo parar de chorar ainda nem assisti la casa de papel mas já to sabendo de quase tudo da temporada ja chorei no 1° ep de la casa de papel quem dirá no final kkkkkkkkkkk aí q ódio de lá casa de papel inferno pq matasse a melhor personagem mzr ainda não vi la casa de papel e estou fugindo de tudo q aparece se spoiler não quero sofrer agora kkkkkk eu ia ver lá casa de papel só no final dessa semana mas já q os babacas do twitter deram spoiler fui obrigada a começar agr mds como eu tava c sdd da abertura de la casa de papel 😭😭 acabei de assistir la casa de papel e eu não sou ninguém gente chorei igual criança que isso… gente eu desisti de la casa de papel antes de terminar a 1º temporada 🥴 la casa de papel tem que ver com o cerebro desligado namoral da nao… la casa de papel pq fez isso cmg eu tava morrendo de medo de assitir lá casa de papel tava adiando mas hoje eu assisti o último episódio e eu estou aos prantos 😭😭 #lcdp5 #lacasadepapael https //t co/6rqlsswxzz esperei um ano pra ver lá casa de papel e eles metem essa mais uma vez chorando com lá casa de papel muito pica essa temp nova de la casa de papel pqp vejo la casa de papel ainda porque me apeguei muito na 1a temporada não sei se pelo momento atual ou pelo enredo mesmo essa parte 5 me desperta cada vez mais ansiedade a cada episódio sinto leve taquicardia vou assistir até o fim mas a sensação não tá boa não eu não estou normal com esse último ep de la casa de papel 😡😡😡😡 @lorenzopinzon_ la casa de papel já foi melhor hein está temporada de la casa de papel acabou com tudo mano berlim mesmo morto carrega a série de um jeito bom demais socorro ja tomei tanto spoiler de la casa de papel q ate perdi a vontade de ver o último ep de lá casa de papel foi o motivo da minha morte doutor tô mal mentira q lá casa de papel fez isso só ladeira abaixo eu só to passando raiva com la casa de papel pqp ainda estou impactado com esses episódios de “la casa de papel” oficialmente odeio la casa de papel nossa mas eu tô já terminando a segunda temporada de la casa de papel de novo eu não chorei vendo lá casa de papel não né 🤡 eu achei que nenhuma morte de la casa de papel ia superar a da nairobi realmente não superou mas precisava disso caralho eu to chorando igual uma vagabunda com essa porra de la casa de papel cara eu nunca chorei tanto quanto eu chorei olhando esse final de lá casa de papel😭🤧 o que caralhos foi isso em la casa de papel'"
     },
     "execution_count": 70,
     "metadata": {},
     "output_type": "execute_result"
    }
   ],
   "source": [
    "## Salvar tweets como strings para limpar \n",
    "relevantes_train_txt = ''\n",
    "for tweet in relevantes_train['Treinamento']:\n",
    "    relevantes_train_txt += \" \"\n",
    "    relevantes_train_txt += str(tweet)\n",
    "\n",
    "nao_relevantes_train_txt = ''\n",
    "for tweet in nao_relevantes_train['Treinamento']:\n",
    "    nao_relevantes_train_txt += \" \"\n",
    "    nao_relevantes_train_txt += str(tweet)\n",
    "\n",
    "relevantes_train_txt\n"
   ]
  },
  {
   "cell_type": "code",
   "execution_count": null,
   "metadata": {},
   "outputs": [],
   "source": []
  },
  {
   "cell_type": "markdown",
   "metadata": {},
   "source": [
    "___\n",
    "### Verificando a performance do Classificador\n",
    "\n",
    "Agora você deve testar o seu classificador com a base de Testes."
   ]
  },
  {
   "cell_type": "code",
   "execution_count": null,
   "metadata": {},
   "outputs": [],
   "source": []
  },
  {
   "cell_type": "code",
   "execution_count": null,
   "metadata": {},
   "outputs": [],
   "source": []
  },
  {
   "cell_type": "code",
   "execution_count": null,
   "metadata": {},
   "outputs": [],
   "source": []
  },
  {
   "cell_type": "markdown",
   "metadata": {},
   "source": [
    "___\n",
    "### Concluindo"
   ]
  },
  {
   "cell_type": "code",
   "execution_count": null,
   "metadata": {},
   "outputs": [],
   "source": []
  },
  {
   "cell_type": "code",
   "execution_count": null,
   "metadata": {},
   "outputs": [],
   "source": []
  },
  {
   "cell_type": "code",
   "execution_count": null,
   "metadata": {},
   "outputs": [],
   "source": []
  },
  {
   "cell_type": "markdown",
   "metadata": {},
   "source": [
    "___\n",
    "### Qualidade do Classificador a partir de novas separações dos tweets entre Treinamento e Teste\n",
    "\n",
    "Caso for fazer esse item do Projeto"
   ]
  },
  {
   "cell_type": "code",
   "execution_count": null,
   "metadata": {},
   "outputs": [],
   "source": []
  },
  {
   "cell_type": "code",
   "execution_count": null,
   "metadata": {},
   "outputs": [],
   "source": []
  },
  {
   "cell_type": "code",
   "execution_count": null,
   "metadata": {},
   "outputs": [],
   "source": []
  },
  {
   "attachments": {},
   "cell_type": "markdown",
   "metadata": {},
   "source": [
    "___\n",
    "## Aperfeiçoamento:\n",
    "\n",
    "Trabalhos que conseguirem pelo menos conceito B vão evoluir em conceito dependendo da quantidade de itens avançados:\n",
    "\n",
    "* IMPLEMENTOU outras limpezas e transformações que não afetem a qualidade da informação contida nos tweets. Ex: stemming, lemmatization, stopwords\n",
    "* CORRIGIU separação de espaços entre palavras e emojis ou entre emojis e emojis\n",
    "* CRIOU categorias intermediárias de relevância baseadas na probabilidade: ex.: muito relevante, relevante, neutro, irrelevante, muito irrelevante. Pelo menos quatro categorias, com adição de mais tweets na base, conforme enunciado. (OBRIGATÓRIO PARA TRIOS, sem contar como item avançado)\n",
    "* EXPLICOU porquê não pode usar o próprio classificador para gerar mais amostras de treinamento\n",
    "* PROPÔS diferentes cenários para Naïve Bayes fora do contexto do projeto\n",
    "* SUGERIU e EXPLICOU melhorias reais com indicações concretas de como implementar (indicar como fazer e indicar material de pesquisa)\n",
    "* FEZ o item 6. Qualidade do Classificador a partir de novas separações dos tweets entre Treinamento e Teste descrito no enunciado do projeto (OBRIGATÓRIO para conceitos A ou A+)"
   ]
  },
  {
   "cell_type": "markdown",
   "metadata": {},
   "source": [
    "___\n",
    "## Referências"
   ]
  },
  {
   "cell_type": "markdown",
   "metadata": {},
   "source": [
    "[Naive Bayes and Text Classification](https://arxiv.org/pdf/1410.5329.pdf)  **Mais completo**\n",
    "\n",
    "[A practical explanation of a Naive Bayes Classifier](https://monkeylearn.com/blog/practical-explanation-naive-bayes-classifier/) **Mais simples**"
   ]
  },
  {
   "cell_type": "code",
   "execution_count": null,
   "metadata": {},
   "outputs": [],
   "source": []
  }
 ],
 "metadata": {
  "interpreter": {
   "hash": "b8480431bb365df6bcb1c44b7387c7b698c6b108659e761b6ab654603c809c5e"
  },
  "kernelspec": {
   "display_name": "Python 3.8.5 64-bit",
   "name": "python3"
  },
  "language_info": {
   "codemirror_mode": {
    "name": "ipython",
    "version": 3
   },
   "file_extension": ".py",
   "mimetype": "text/x-python",
   "name": "python",
   "nbconvert_exporter": "python",
   "pygments_lexer": "ipython3",
   "version": "3.8.5"
  }
 },
 "nbformat": 4,
 "nbformat_minor": 4
}