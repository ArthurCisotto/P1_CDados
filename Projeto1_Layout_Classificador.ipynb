{
 "cells": [
  {
   "cell_type": "markdown",
   "metadata": {},
   "source": [
    "# Projeto 1 - Ciência dos Dados"
   ]
  },
  {
   "cell_type": "markdown",
   "metadata": {},
   "source": [
    "Nome: Arthur Cisotto Machado\r\n",
    "\r\n",
    "Nome: Alessandra Yumi Carvalho Ogawa"
   ]
  },
  {
   "cell_type": "markdown",
   "metadata": {},
   "source": [
    "Atenção: Serão permitidos grupos de três pessoas, mas com uma rubrica mais exigente. Grupos deste tamanho precisarão fazer um questionário de avaliação de trabalho em equipe"
   ]
  },
  {
   "cell_type": "markdown",
   "metadata": {},
   "source": [
    "___\n",
    "Carregando algumas bibliotecas:"
   ]
  },
  {
   "cell_type": "code",
   "execution_count": 1,
   "metadata": {},
   "outputs": [],
   "source": [
    "%matplotlib inline\r\n",
    "import pandas as pd\r\n",
    "import matplotlib.pyplot as plt\r\n",
    "import numpy as np\r\n",
    "import os"
   ]
  },
  {
   "cell_type": "code",
   "execution_count": 2,
   "metadata": {
    "scrolled": false
   },
   "outputs": [
    {
     "name": "stdout",
     "output_type": "stream",
     "text": [
      "Esperamos trabalhar no diretório\n",
      "/Users/alessandrayumiogawa/Documents/INSPER/INSPER - 2A/C-DADOS/P1_CDados\n"
     ]
    }
   ],
   "source": [
    "print('Esperamos trabalhar no diretório')\r\n",
    "print(os.getcwd())"
   ]
  },
  {
   "cell_type": "markdown",
   "metadata": {},
   "source": [
    "Carregando a base de dados com os tweets classificados como relevantes e não relevantes:"
   ]
  },
  {
   "cell_type": "code",
   "execution_count": 3,
   "metadata": {},
   "outputs": [],
   "source": [
    "filename = 'la casa de papel.xlsx'"
   ]
  },
  {
   "cell_type": "code",
   "execution_count": 4,
   "metadata": {},
   "outputs": [
    {
     "data": {
      "text/html": "<div>\n<style scoped>\n    .dataframe tbody tr th:only-of-type {\n        vertical-align: middle;\n    }\n\n    .dataframe tbody tr th {\n        vertical-align: top;\n    }\n\n    .dataframe thead th {\n        text-align: right;\n    }\n</style>\n<table border=\"1\" class=\"dataframe\">\n  <thead>\n    <tr style=\"text-align: right;\">\n      <th></th>\n      <th>Treinamento</th>\n      <th>Classificação (relevante = 1, não relevante = 0)</th>\n    </tr>\n  </thead>\n  <tbody>\n    <tr>\n      <th>0</th>\n      <td>tô vendo la casa de papel... mdssss o primeiro...</td>\n      <td>1.0</td>\n    </tr>\n    <tr>\n      <th>1</th>\n      <td>agora vou assistir lá casa de papel e dormir  ...</td>\n      <td>0.0</td>\n    </tr>\n    <tr>\n      <th>2</th>\n      <td>dedo coçando pra assistir lá casa de papel mas...</td>\n      <td>0.0</td>\n    </tr>\n    <tr>\n      <th>3</th>\n      <td>la casa de papel me faz torcer pros bandidos</td>\n      <td>1.0</td>\n    </tr>\n    <tr>\n      <th>4</th>\n      <td>la casa de papel acabou comigo, me encontro de...</td>\n      <td>1.0</td>\n    </tr>\n  </tbody>\n</table>\n</div>",
      "text/plain": "                                         Treinamento  \\\n0  tô vendo la casa de papel... mdssss o primeiro...   \n1  agora vou assistir lá casa de papel e dormir  ...   \n2  dedo coçando pra assistir lá casa de papel mas...   \n3       la casa de papel me faz torcer pros bandidos   \n4  la casa de papel acabou comigo, me encontro de...   \n\n   Classificação (relevante = 1, não relevante = 0)  \n0                                               1.0  \n1                                               0.0  \n2                                               0.0  \n3                                               1.0  \n4                                               1.0  "
     },
     "execution_count": 4,
     "metadata": {},
     "output_type": "execute_result"
    }
   ],
   "source": [
    "train = pd.read_excel(filename)\r\n",
    "train.head(5)"
   ]
  },
  {
   "cell_type": "code",
   "execution_count": 5,
   "metadata": {},
   "outputs": [
    {
     "data": {
      "text/html": "<div>\n<style scoped>\n    .dataframe tbody tr th:only-of-type {\n        vertical-align: middle;\n    }\n\n    .dataframe tbody tr th {\n        vertical-align: top;\n    }\n\n    .dataframe thead th {\n        text-align: right;\n    }\n</style>\n<table border=\"1\" class=\"dataframe\">\n  <thead>\n    <tr style=\"text-align: right;\">\n      <th></th>\n      <th>Teste</th>\n      <th>Classificação (relevante = 1, não relevante = 0)</th>\n    </tr>\n  </thead>\n  <tbody>\n    <tr>\n      <th>0</th>\n      <td>quero terminar de ver a nova parte de la casa ...</td>\n      <td>0</td>\n    </tr>\n    <tr>\n      <th>1</th>\n      <td>não existe outra série no mundo que mexa comig...</td>\n      <td>1</td>\n    </tr>\n    <tr>\n      <th>2</th>\n      <td>tá foda de desviar de todos os spoilers de la ...</td>\n      <td>1</td>\n    </tr>\n    <tr>\n      <th>3</th>\n      <td>@todoroki_jun2 né tô me sentindo em lá casa de...</td>\n      <td>0</td>\n    </tr>\n    <tr>\n      <th>4</th>\n      <td>la casa de papel é tão ruim que nem consegui t...</td>\n      <td>1</td>\n    </tr>\n  </tbody>\n</table>\n</div>",
      "text/plain": "                                               Teste  \\\n0  quero terminar de ver a nova parte de la casa ...   \n1  não existe outra série no mundo que mexa comig...   \n2  tá foda de desviar de todos os spoilers de la ...   \n3  @todoroki_jun2 né tô me sentindo em lá casa de...   \n4  la casa de papel é tão ruim que nem consegui t...   \n\n   Classificação (relevante = 1, não relevante = 0)  \n0                                                 0  \n1                                                 1  \n2                                                 1  \n3                                                 0  \n4                                                 1  "
     },
     "execution_count": 5,
     "metadata": {},
     "output_type": "execute_result"
    }
   ],
   "source": [
    "test = pd.read_excel(filename, sheet_name = 'Teste')\r\n",
    "test.head(5)"
   ]
  },
  {
   "cell_type": "code",
   "execution_count": null,
   "metadata": {},
   "outputs": [],
   "source": []
  },
  {
   "cell_type": "markdown",
   "metadata": {},
   "source": [
    "___\n",
    "## Classificador automático de sentimento\n"
   ]
  },
  {
   "cell_type": "markdown",
   "metadata": {},
   "source": [
    "Faça aqui uma descrição do seu produto e o que considerou como relevante ou não relevante na classificação dos tweets.\r\n",
    "\r\n",
    "ESCREVA AQUI...\r\n",
    "\r\n",
    "O produto escolhido para análise é a série La Casa de Papel da Netflix e Vancouver Media. \r\n",
    "\r\n",
    "Classificamos como relevantes tweets que mostravam a opinião e sentimentos, sejam eles positivos ou negativos, sobre a série.\r\n",
    "*Consideramos tweets relacionados a spoilers como relevantes pois eles também demonstram um forte sentimento que as pessoas possuem em relação à série.\r\n",
    "\r\n",
    "Classificamos como não relevantes tweets que não se encaixaram na nossa classificação de relevância, tweets que falavam sobre tópicos pessoais ou tweets que falavam sobre algum personagem específico da série.\r\n"
   ]
  },
  {
   "cell_type": "markdown",
   "metadata": {},
   "source": [
    "___\n",
    "### Montando um Classificador Naive-Bayes\n",
    "\n",
    "Considerando apenas as mensagens da planilha Treinamento, ensine  seu classificador."
   ]
  },
  {
   "cell_type": "code",
   "execution_count": 6,
   "metadata": {},
   "outputs": [],
   "source": [
    "# https://docs.python.org/3/library/re.html#\r\n",
    "import re \r\n",
    "\r\n",
    "\r\n",
    "def cleanup(text):\r\n",
    "    \"\"\"\r\n",
    "        Função de limpeza muito simples que troca alguns sinais básicos por espaços\r\n",
    "    \"\"\"\r\n",
    "    #import string\r\n",
    "    punctuation = '[\\\\n:;?\\\"\\'()]' # Note que os sinais [] são delimitadores de um conjunto.\r\n",
    "    pattern = re.compile(punctuation)\r\n",
    "    text_subbed = re.sub(pattern, ' ', text)\r\n",
    "    text_split = text_subbed.split()\r\n",
    "    return ' '.join(text_split)"
   ]
  },
  {
   "cell_type": "code",
   "execution_count": 15,
   "metadata": {},
   "outputs": [
    {
     "data": {
      "text/html": "<div>\n<style scoped>\n    .dataframe tbody tr th:only-of-type {\n        vertical-align: middle;\n    }\n\n    .dataframe tbody tr th {\n        vertical-align: top;\n    }\n\n    .dataframe thead th {\n        text-align: right;\n    }\n</style>\n<table border=\"1\" class=\"dataframe\">\n  <thead>\n    <tr style=\"text-align: right;\">\n      <th></th>\n      <th>Treinamento</th>\n      <th>Classificação (relevante = 1, não relevante = 0)</th>\n    </tr>\n  </thead>\n  <tbody>\n    <tr>\n      <th>0</th>\n      <td>tô vendo la casa de papel... mdssss o primeiro...</td>\n      <td>1.0</td>\n    </tr>\n    <tr>\n      <th>3</th>\n      <td>la casa de papel me faz torcer pros bandidos</td>\n      <td>1.0</td>\n    </tr>\n    <tr>\n      <th>4</th>\n      <td>la casa de papel acabou comigo, me encontro de...</td>\n      <td>1.0</td>\n    </tr>\n    <tr>\n      <th>5</th>\n      <td>nossa mas que inferno esse final de lá casa de...</td>\n      <td>1.0</td>\n    </tr>\n    <tr>\n      <th>6</th>\n      <td>vey chorei em vis a via igual uma criança, ago...</td>\n      <td>1.0</td>\n    </tr>\n    <tr>\n      <th>...</th>\n      <td>...</td>\n      <td>...</td>\n    </tr>\n    <tr>\n      <th>291</th>\n      <td>eu não chorei vendo lá casa de papel não né 🤡</td>\n      <td>1.0</td>\n    </tr>\n    <tr>\n      <th>296</th>\n      <td>eu achei que nenhuma morte de la casa de papel...</td>\n      <td>1.0</td>\n    </tr>\n    <tr>\n      <th>297</th>\n      <td>caralho eu to chorando igual uma vagabunda com...</td>\n      <td>1.0</td>\n    </tr>\n    <tr>\n      <th>298</th>\n      <td>cara eu nunca chorei tanto quanto eu chorei ol...</td>\n      <td>1.0</td>\n    </tr>\n    <tr>\n      <th>299</th>\n      <td>o que caralhos foi isso em la casa de papel</td>\n      <td>1.0</td>\n    </tr>\n  </tbody>\n</table>\n<p>201 rows × 2 columns</p>\n</div>",
      "text/plain": "                                           Treinamento  \\\n0    tô vendo la casa de papel... mdssss o primeiro...   \n3         la casa de papel me faz torcer pros bandidos   \n4    la casa de papel acabou comigo, me encontro de...   \n5    nossa mas que inferno esse final de lá casa de...   \n6    vey chorei em vis a via igual uma criança, ago...   \n..                                                 ...   \n291      eu não chorei vendo lá casa de papel não né 🤡   \n296  eu achei que nenhuma morte de la casa de papel...   \n297  caralho eu to chorando igual uma vagabunda com...   \n298  cara eu nunca chorei tanto quanto eu chorei ol...   \n299        o que caralhos foi isso em la casa de papel   \n\n     Classificação (relevante = 1, não relevante = 0)  \n0                                                 1.0  \n3                                                 1.0  \n4                                                 1.0  \n5                                                 1.0  \n6                                                 1.0  \n..                                                ...  \n291                                               1.0  \n296                                               1.0  \n297                                               1.0  \n298                                               1.0  \n299                                               1.0  \n\n[201 rows x 2 columns]"
     },
     "execution_count": 15,
     "metadata": {},
     "output_type": "execute_result"
    }
   ],
   "source": [
    "filtro_nao_relevante = train['Classificação (relevante = 1, não relevante = 0)']==0\n",
    "filtro_relevante = train['Classificação (relevante = 1, não relevante = 0)']==1\n",
    "\n",
    "nao_relevantes_train = train[filtro_nao_relevante]\n",
    "relevantes_train = train[filtro_relevante]\n"
   ]
  },
  {
   "cell_type": "markdown",
   "metadata": {},
   "source": [
    "# Base de Teste"
   ]
  },
  {
   "cell_type": "code",
   "execution_count": 70,
   "metadata": {},
   "outputs": [
    {
     "data": {
      "text/plain": [
       "0          agora\n",
       "1            vou\n",
       "2       assistir\n",
       "3             lá\n",
       "4           casa\n",
       "          ...   \n",
       "1409         ler\n",
       "1410       todos\n",
       "1411          os\n",
       "1412     spoiler\n",
       "1413           🤯\n",
       "Length: 1414, dtype: object"
      ]
     },
     "execution_count": 70,
     "metadata": {},
     "output_type": "execute_result"
    }
   ],
   "source": [
    "tweets_relevantes = train[train['Classificação (relevante = 1, não relevante = 0)'] == 1]\r\n",
    "tweets_nao_relevantes = train[train['Classificação (relevante = 1, não relevante = 0)'] == 0]\r\n",
    "\r\n",
    "## Salvar tweets como strings para limpar \r\n",
    "tweets_relevantes_txt = ''\r\n",
    "for tweet in tweets_relevantes['Treinamento']:\r\n",
    "    tweets_relevantes_txt += str(tweet)\r\n",
    "\r\n",
    "tweets_nao_relevantes_txt = ''\r\n",
    "for tweet in tweets_nao_relevantes['Treinamento']:\r\n",
    "    tweets_nao_relevantes_txt += str(tweet)\r\n",
    "\r\n",
    "todas_palavras_relevantes = tweets_relevantes_txt.split()\r\n",
    "todas_palavras_nao_relevantes = tweets_nao_relevantes_txt.split()\r\n",
    "\r\n",
    "serie_tweet_relevante = pd.Series(todas_palavras_relevantes)\r\n",
    "serie_tweet_nao_relevante = pd.Series(todas_palavras_nao_relevantes)\r\n",
    "\r\n",
    "serie_tweet_nao_relevante"
   ]
  },
  {
   "cell_type": "code",
   "execution_count": null,
   "metadata": {},
   "outputs": [],
   "source": []
  },
  {
   "cell_type": "markdown",
   "metadata": {},
   "source": [
    "___\n",
    "### Verificando a performance do Classificador\n",
    "\n",
    "Agora você deve testar o seu classificador com a base de Testes."
   ]
  },
  {
   "cell_type": "code",
   "execution_count": null,
   "metadata": {},
   "outputs": [],
   "source": []
  },
  {
   "cell_type": "code",
   "execution_count": null,
   "metadata": {},
   "outputs": [],
   "source": []
  },
  {
   "cell_type": "code",
   "execution_count": null,
   "metadata": {},
   "outputs": [],
   "source": []
  },
  {
   "cell_type": "markdown",
   "metadata": {},
   "source": [
    "___\n",
    "### Concluindo"
   ]
  },
  {
   "cell_type": "code",
   "execution_count": null,
   "metadata": {},
   "outputs": [],
   "source": []
  },
  {
   "cell_type": "code",
   "execution_count": null,
   "metadata": {},
   "outputs": [],
   "source": []
  },
  {
   "cell_type": "code",
   "execution_count": null,
   "metadata": {},
   "outputs": [],
   "source": []
  },
  {
   "cell_type": "markdown",
   "metadata": {},
   "source": [
    "___\n",
    "### Qualidade do Classificador a partir de novas separações dos tweets entre Treinamento e Teste\n",
    "\n",
    "Caso for fazer esse item do Projeto"
   ]
  },
  {
   "cell_type": "code",
   "execution_count": null,
   "metadata": {},
   "outputs": [],
   "source": []
  },
  {
   "cell_type": "code",
   "execution_count": null,
   "metadata": {},
   "outputs": [],
   "source": []
  },
  {
   "cell_type": "code",
   "execution_count": null,
   "metadata": {},
   "outputs": [],
   "source": []
  },
  {
   "attachments": {},
   "cell_type": "markdown",
   "metadata": {},
   "source": [
    "___\n",
    "## Aperfeiçoamento:\n",
    "\n",
    "Trabalhos que conseguirem pelo menos conceito B vão evoluir em conceito dependendo da quantidade de itens avançados:\n",
    "\n",
    "* IMPLEMENTOU outras limpezas e transformações que não afetem a qualidade da informação contida nos tweets. Ex: stemming, lemmatization, stopwords\n",
    "* CORRIGIU separação de espaços entre palavras e emojis ou entre emojis e emojis\n",
    "* CRIOU categorias intermediárias de relevância baseadas na probabilidade: ex.: muito relevante, relevante, neutro, irrelevante, muito irrelevante. Pelo menos quatro categorias, com adição de mais tweets na base, conforme enunciado. (OBRIGATÓRIO PARA TRIOS, sem contar como item avançado)\n",
    "* EXPLICOU porquê não pode usar o próprio classificador para gerar mais amostras de treinamento\n",
    "* PROPÔS diferentes cenários para Naïve Bayes fora do contexto do projeto\n",
    "* SUGERIU e EXPLICOU melhorias reais com indicações concretas de como implementar (indicar como fazer e indicar material de pesquisa)\n",
    "* FEZ o item 6. Qualidade do Classificador a partir de novas separações dos tweets entre Treinamento e Teste descrito no enunciado do projeto (OBRIGATÓRIO para conceitos A ou A+)"
   ]
  },
  {
   "cell_type": "markdown",
   "metadata": {},
   "source": [
    "___\n",
    "## Referências"
   ]
  },
  {
   "cell_type": "markdown",
   "metadata": {},
   "source": [
    "[Naive Bayes and Text Classification](https://arxiv.org/pdf/1410.5329.pdf)  **Mais completo**\n",
    "\n",
    "[A practical explanation of a Naive Bayes Classifier](https://monkeylearn.com/blog/practical-explanation-naive-bayes-classifier/) **Mais simples**"
   ]
  },
  {
   "cell_type": "code",
   "execution_count": null,
   "metadata": {},
   "outputs": [],
   "source": []
  }
 ],
 "metadata": {
  "interpreter": {
   "hash": "b8480431bb365df6bcb1c44b7387c7b698c6b108659e761b6ab654603c809c5e"
  },
  "kernelspec": {
   "display_name": "Python 3.8.5 64-bit",
   "name": "python3"
  },
  "language_info": {
   "codemirror_mode": {
    "name": "ipython",
    "version": 3
   },
   "file_extension": ".py",
   "mimetype": "text/x-python",
   "name": "python",
   "nbconvert_exporter": "python",
   "pygments_lexer": "ipython3",
   "version": "3.8.5"
  }
 },
 "nbformat": 4,
 "nbformat_minor": 4
}