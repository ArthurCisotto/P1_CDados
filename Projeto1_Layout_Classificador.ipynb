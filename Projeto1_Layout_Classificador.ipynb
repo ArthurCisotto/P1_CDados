{
 "cells": [
  {
   "cell_type": "markdown",
   "source": [
    "# Projeto 1 - Ciência dos Dados"
   ],
   "metadata": {}
  },
  {
   "cell_type": "markdown",
   "source": [
    "Nome: Arthur Cisotto Machado\n",
    "\n",
    "Nome: Alessandra Yumi Carvalho Ogawa"
   ],
   "metadata": {}
  },
  {
   "cell_type": "markdown",
   "source": [
    "#### CONTEXTO DO PROJETO "
   ],
   "metadata": {}
  },
  {
   "cell_type": "markdown",
   "source": [
    "A empresa de streaming *Netflix* em parceria com o estúdio espanhol *Vancouver Media* deseja saber e analisar como a audiencia está reagindo a série de sucesso *La Casa de Papel* na rede social Twitter. \n",
    "O projeto exige a criação de um programa que consiga classificar os tweets entre **relevantes** ou **irrelevantes** para a análise da empresa.\n",
    "\n",
    "A classificação foi feita com o intúito de ajudar a área de marketing das duas empresas parceiras a acharem comentários que possam ser úteis em algum sentido estratégio para mudança de operações internas e também como fonte de *feedback* em relação ao conteúdo cinematográfico produzido."
   ],
   "metadata": {}
  },
  {
   "cell_type": "markdown",
   "source": [
    "___\r\n",
    "#### CARREGANDO AS BIBLIOTECAS UTILIZADAS NO PROGRAMA:"
   ],
   "metadata": {}
  },
  {
   "cell_type": "code",
   "execution_count": 47,
   "source": [
    "%matplotlib inline\r\n",
    "import pandas as pd\r\n",
    "import matplotlib.pyplot as plt\r\n",
    "import numpy as np\r\n",
    "import os\r\n",
    "import re \r\n",
    "import emoji\r\n",
    "from emoji import UNICODE_EMOJI\r\n",
    "import nltk \r\n",
    "from nltk.stem import RSLPStemmer\r\n",
    "nltk.download('rslp')\r\n",
    "nltk.download('punkt')\r\n",
    "nltk.download('stopwords')\r\n",
    "\r\n",
    "\r\n"
   ],
   "outputs": [
    {
     "output_type": "stream",
     "name": "stderr",
     "text": [
      "[nltk_data] Downloading package rslp to\n",
      "[nltk_data]     C:\\Users\\Arthur\\AppData\\Roaming\\nltk_data...\n",
      "[nltk_data]   Package rslp is already up-to-date!\n",
      "[nltk_data] Downloading package punkt to\n",
      "[nltk_data]     C:\\Users\\Arthur\\AppData\\Roaming\\nltk_data...\n",
      "[nltk_data]   Package punkt is already up-to-date!\n",
      "[nltk_data] Downloading package stopwords to\n",
      "[nltk_data]     C:\\Users\\Arthur\\AppData\\Roaming\\nltk_data...\n",
      "[nltk_data]   Package stopwords is already up-to-date!\n"
     ]
    },
    {
     "output_type": "execute_result",
     "data": {
      "text/plain": [
       "True"
      ]
     },
     "metadata": {},
     "execution_count": 47
    }
   ],
   "metadata": {}
  },
  {
   "cell_type": "code",
   "execution_count": 48,
   "source": [
    "print('Esperamos trabalhar no diretório')\r\n",
    "print(os.getcwd())"
   ],
   "outputs": [
    {
     "output_type": "stream",
     "name": "stdout",
     "text": [
      "Esperamos trabalhar no diretório\n",
      "c:\\Users\\Arthur\\Dropbox\\A - ARTHUR\\2o Semestre\\CDados\\P1_CDados\n"
     ]
    }
   ],
   "metadata": {
    "scrolled": false
   }
  },
  {
   "cell_type": "markdown",
   "source": [
    "___\r\n",
    "#### FUNÇÃO DE LIMPEZA DOS TWEETS:\r\n",
    "- tira sinais de pontuação irrelevantes para o texto;\r\n",
    "- todas as fontes são convertidas para letras minúsculas para evitar diferenciação pelo classificador;\r\n",
    "- exclui repetição de emoji;\r\n",
    "- substitui emoji por seu código;"
   ],
   "metadata": {}
  },
  {
   "cell_type": "code",
   "execution_count": 49,
   "source": [
    "# https://docs.python.org/3/library/re.html#\r\n",
    "\r\n",
    "\r\n",
    "def cleanup(text):\r\n",
    "\r\n",
    "    punctuation = '[”/-@\\\\n:;?\\\"\\'().,]' \r\n",
    "    pattern = re.compile(punctuation)\r\n",
    "    text_subbed = re.sub(pattern, ' ', text)\r\n",
    "    text_split = text_subbed.split()\r\n",
    "    return ' '.join(text_split).lower()\r\n",
    "\r\n",
    "def limpa_emoji(tweet):\r\n",
    "    \r\n",
    "    modified=' '.join(emoji.get_emoji_regexp().split(tweet))\r\n",
    "    modified=modified.split()\r\n",
    "    for i,emoji1 in enumerate(modified):\r\n",
    "        if emoji1 in UNICODE_EMOJI['pt']:\r\n",
    "            modified[i]=UNICODE_EMOJI['pt'][emoji1].replace(':','')\r\n",
    "        elif emoji1 in UNICODE_EMOJI['en']:\r\n",
    "            modified[i]=UNICODE_EMOJI['en'][emoji1].replace(':','')\r\n",
    "        else:\r\n",
    "            continue\r\n",
    "    modified=' '.join(modified)\r\n",
    "        \r\n",
    "    return modified"
   ],
   "outputs": [],
   "metadata": {}
  },
  {
   "cell_type": "markdown",
   "source": [
    "#### OUTRAS FUNÇÕES DE LIMPEZA \r\n",
    "Como proposta de outras limpezas/transformações que não afetem a qualidade da informação decidimos fazer a limpeza de stopwords, isso é, a remoção de palavras como preposições, pronomes, artigos e verbos de estado que não afetam a qualidade do conteúdo geral dos tweets, e o stemming das palavras, isso é, diminuir as palavras até seu radical para que o classificador consiga tratar as palavras e suas  derivações da mesma maneira. Por exemplo: as palavras casa, casinha e casebre serão reduzidas ao seu radical 'cas'."
   ],
   "metadata": {}
  },
  {
   "cell_type": "code",
   "execution_count": 50,
   "source": [
    "##Função que remove palavras comuns que não afetam a qualidade da informação contida, como preposições, pronomes, artigos e verbos de estado.\r\n",
    "def remove_stopwords(lista_palavras):\r\n",
    "    stopwords = nltk.corpus.stopwords.words('portuguese')\r\n",
    "    frase = []\r\n",
    "    for palavra in lista_palavras:\r\n",
    "        if palavra not in stopwords:\r\n",
    "            frase.append(palavra)\r\n",
    "    return frase\r\n"
   ],
   "outputs": [],
   "metadata": {}
  },
  {
   "cell_type": "code",
   "execution_count": 51,
   "source": [
    "##Todas as palavras consideradas como stopwords pela biblioteca usada:\r\n",
    "stopwords = nltk.corpus.stopwords.words('portuguese')\r\n",
    "print(stopwords)"
   ],
   "outputs": [
    {
     "output_type": "stream",
     "name": "stdout",
     "text": [
      "['de', 'a', 'o', 'que', 'e', 'é', 'do', 'da', 'em', 'um', 'para', 'com', 'não', 'uma', 'os', 'no', 'se', 'na', 'por', 'mais', 'as', 'dos', 'como', 'mas', 'ao', 'ele', 'das', 'à', 'seu', 'sua', 'ou', 'quando', 'muito', 'nos', 'já', 'eu', 'também', 'só', 'pelo', 'pela', 'até', 'isso', 'ela', 'entre', 'depois', 'sem', 'mesmo', 'aos', 'seus', 'quem', 'nas', 'me', 'esse', 'eles', 'você', 'essa', 'num', 'nem', 'suas', 'meu', 'às', 'minha', 'numa', 'pelos', 'elas', 'qual', 'nós', 'lhe', 'deles', 'essas', 'esses', 'pelas', 'este', 'dele', 'tu', 'te', 'vocês', 'vos', 'lhes', 'meus', 'minhas', 'teu', 'tua', 'teus', 'tuas', 'nosso', 'nossa', 'nossos', 'nossas', 'dela', 'delas', 'esta', 'estes', 'estas', 'aquele', 'aquela', 'aqueles', 'aquelas', 'isto', 'aquilo', 'estou', 'está', 'estamos', 'estão', 'estive', 'esteve', 'estivemos', 'estiveram', 'estava', 'estávamos', 'estavam', 'estivera', 'estivéramos', 'esteja', 'estejamos', 'estejam', 'estivesse', 'estivéssemos', 'estivessem', 'estiver', 'estivermos', 'estiverem', 'hei', 'há', 'havemos', 'hão', 'houve', 'houvemos', 'houveram', 'houvera', 'houvéramos', 'haja', 'hajamos', 'hajam', 'houvesse', 'houvéssemos', 'houvessem', 'houver', 'houvermos', 'houverem', 'houverei', 'houverá', 'houveremos', 'houverão', 'houveria', 'houveríamos', 'houveriam', 'sou', 'somos', 'são', 'era', 'éramos', 'eram', 'fui', 'foi', 'fomos', 'foram', 'fora', 'fôramos', 'seja', 'sejamos', 'sejam', 'fosse', 'fôssemos', 'fossem', 'for', 'formos', 'forem', 'serei', 'será', 'seremos', 'serão', 'seria', 'seríamos', 'seriam', 'tenho', 'tem', 'temos', 'tém', 'tinha', 'tínhamos', 'tinham', 'tive', 'teve', 'tivemos', 'tiveram', 'tivera', 'tivéramos', 'tenha', 'tenhamos', 'tenham', 'tivesse', 'tivéssemos', 'tivessem', 'tiver', 'tivermos', 'tiverem', 'terei', 'terá', 'teremos', 'terão', 'teria', 'teríamos', 'teriam']\n"
     ]
    }
   ],
   "metadata": {}
  },
  {
   "cell_type": "code",
   "execution_count": 52,
   "source": [
    "##A função RSLPStemmer significa Removedor de Sufixos da Lingua Portuguesa, ela reduz as palavras até seu radical\r\n",
    "def radicais(lista_palavras):\r\n",
    "    stemmer = RSLPStemmer()\r\n",
    "    frase = []\r\n",
    "    for palavra in lista_palavras:\r\n",
    "        frase.append(stemmer.stem(palavra))\r\n",
    "    return frase"
   ],
   "outputs": [],
   "metadata": {}
  },
  {
   "cell_type": "code",
   "execution_count": 53,
   "source": [
    "#compilado das funções de limpeza em uma só para mais fácil aplicação\r\n",
    "def limpeza_total(tweet):\r\n",
    "    texto_sem_pontuacoes = cleanup(tweet)\r\n",
    "    sem_emoji = limpa_emoji(texto_sem_pontuacoes)\r\n",
    "    lista_tweet = sem_emoji.split()\r\n",
    "    lista_tweet_sem_stopwords = remove_stopwords(lista_tweet)\r\n",
    "    lista_tweet_com_stemming = radicais(lista_tweet_sem_stopwords)\r\n",
    "    tweet_limpo = ' '.join(lista_tweet_com_stemming)\r\n",
    "    return tweet_limpo"
   ],
   "outputs": [],
   "metadata": {}
  },
  {
   "cell_type": "markdown",
   "source": [
    "___\n",
    "#### CARREGANDO A BASE DE DADOS COM OS TWEETS CLASSIFICADOS COMO ***RELEVANTES*** E ***IRRELEVANTES*** MANUALMENTE:"
   ],
   "metadata": {}
  },
  {
   "cell_type": "code",
   "execution_count": 54,
   "source": [
    "filename = 'la casa de papel.xlsx'"
   ],
   "outputs": [],
   "metadata": {}
  },
  {
   "cell_type": "markdown",
   "source": [
    "Separação do documento em dois DataFrames diferentes: **Treinamento** e **Teste**.\n",
    "\n",
    "- **Treinamento**: composto por 300 tweets classificados manualmente, será usado para *ensinar* o programa a classificar um tweets de acorodo com a sua relevância levando em conta as palavras em seu conteúdo.\n",
    "\n",
    "- **Teste**: composto por 200 tweets classificados manualmente, será usado para *testar* o programa classificador e comparar o resultado com a classificação feita à mão anteriormente. "
   ],
   "metadata": {}
  },
  {
   "cell_type": "code",
   "execution_count": 55,
   "source": [
    "train = pd.read_excel(filename)\r\n",
    "train['Treinamento'] = train['Treinamento'].apply(limpeza_total) #aplicando a função de limpeza\r\n",
    "train.head(5)\r\n"
   ],
   "outputs": [
    {
     "output_type": "execute_result",
     "data": {
      "text/html": [
       "<div>\n",
       "<style scoped>\n",
       "    .dataframe tbody tr th:only-of-type {\n",
       "        vertical-align: middle;\n",
       "    }\n",
       "\n",
       "    .dataframe tbody tr th {\n",
       "        vertical-align: top;\n",
       "    }\n",
       "\n",
       "    .dataframe thead th {\n",
       "        text-align: right;\n",
       "    }\n",
       "</style>\n",
       "<table border=\"1\" class=\"dataframe\">\n",
       "  <thead>\n",
       "    <tr style=\"text-align: right;\">\n",
       "      <th></th>\n",
       "      <th>Treinamento</th>\n",
       "      <th>Classificação (relevante = 1, não relevante = 0)</th>\n",
       "    </tr>\n",
       "  </thead>\n",
       "  <tbody>\n",
       "    <tr>\n",
       "      <th>0</th>\n",
       "      <td>tô vend la cas papel mdsss prim ep tir fôleg</td>\n",
       "      <td>1.0</td>\n",
       "    </tr>\n",
       "    <tr>\n",
       "      <th>1</th>\n",
       "      <td>agor vou assist lá cas papel dorm porq amanhã ...</td>\n",
       "      <td>0.0</td>\n",
       "    </tr>\n",
       "    <tr>\n",
       "      <th>2</th>\n",
       "      <td>ded coç pra assist lá cas papel esper rosto_ex...</td>\n",
       "      <td>0.0</td>\n",
       "    </tr>\n",
       "    <tr>\n",
       "      <th>3</th>\n",
       "      <td>la cas papel faz torc pro band</td>\n",
       "      <td>1.0</td>\n",
       "    </tr>\n",
       "    <tr>\n",
       "      <th>4</th>\n",
       "      <td>la cas papel acab comig encontr desidrat tant ...</td>\n",
       "      <td>1.0</td>\n",
       "    </tr>\n",
       "  </tbody>\n",
       "</table>\n",
       "</div>"
      ],
      "text/plain": [
       "                                         Treinamento  \\\n",
       "0       tô vend la cas papel mdsss prim ep tir fôleg   \n",
       "1  agor vou assist lá cas papel dorm porq amanhã ...   \n",
       "2  ded coç pra assist lá cas papel esper rosto_ex...   \n",
       "3                     la cas papel faz torc pro band   \n",
       "4  la cas papel acab comig encontr desidrat tant ...   \n",
       "\n",
       "   Classificação (relevante = 1, não relevante = 0)  \n",
       "0                                               1.0  \n",
       "1                                               0.0  \n",
       "2                                               0.0  \n",
       "3                                               1.0  \n",
       "4                                               1.0  "
      ]
     },
     "metadata": {},
     "execution_count": 55
    }
   ],
   "metadata": {}
  },
  {
   "cell_type": "code",
   "execution_count": 56,
   "source": [
    "test = pd.read_excel(filename, sheet_name = 'Teste')\r\n",
    "test['Teste'] = test['Teste'].apply(limpeza_total)\r\n",
    "test.head(5)\r\n"
   ],
   "outputs": [
    {
     "output_type": "execute_result",
     "data": {
      "text/html": [
       "<div>\n",
       "<style scoped>\n",
       "    .dataframe tbody tr th:only-of-type {\n",
       "        vertical-align: middle;\n",
       "    }\n",
       "\n",
       "    .dataframe tbody tr th {\n",
       "        vertical-align: top;\n",
       "    }\n",
       "\n",
       "    .dataframe thead th {\n",
       "        text-align: right;\n",
       "    }\n",
       "</style>\n",
       "<table border=\"1\" class=\"dataframe\">\n",
       "  <thead>\n",
       "    <tr style=\"text-align: right;\">\n",
       "      <th></th>\n",
       "      <th>Teste</th>\n",
       "      <th>Classificação (relevante = 1, não relevante = 0)</th>\n",
       "    </tr>\n",
       "  </thead>\n",
       "  <tbody>\n",
       "    <tr>\n",
       "      <th>0</th>\n",
       "      <td>quer termin ver nov part la cas papel má to tã...</td>\n",
       "      <td>0</td>\n",
       "    </tr>\n",
       "    <tr>\n",
       "      <th>1</th>\n",
       "      <td>exist outr séri mund mex comig la cas papel pqp</td>\n",
       "      <td>1</td>\n",
       "    </tr>\n",
       "    <tr>\n",
       "      <th>2</th>\n",
       "      <td>tá fod desvi tod spoil la cas papel</td>\n",
       "      <td>1</td>\n",
       "    </tr>\n",
       "    <tr>\n",
       "      <th>3</th>\n",
       "      <td>todoroki_jun né tô sent lá cas papel</td>\n",
       "      <td>0</td>\n",
       "    </tr>\n",
       "    <tr>\n",
       "      <th>4</th>\n",
       "      <td>la cas papel tão ruim consegu termin so t t q ...</td>\n",
       "      <td>1</td>\n",
       "    </tr>\n",
       "  </tbody>\n",
       "</table>\n",
       "</div>"
      ],
      "text/plain": [
       "                                               Teste  \\\n",
       "0  quer termin ver nov part la cas papel má to tã...   \n",
       "1    exist outr séri mund mex comig la cas papel pqp   \n",
       "2                tá fod desvi tod spoil la cas papel   \n",
       "3               todoroki_jun né tô sent lá cas papel   \n",
       "4  la cas papel tão ruim consegu termin so t t q ...   \n",
       "\n",
       "   Classificação (relevante = 1, não relevante = 0)  \n",
       "0                                                 0  \n",
       "1                                                 1  \n",
       "2                                                 1  \n",
       "3                                                 0  \n",
       "4                                                 1  "
      ]
     },
     "metadata": {},
     "execution_count": 56
    }
   ],
   "metadata": {}
  },
  {
   "cell_type": "markdown",
   "source": [
    "**OBS**: a função de limpeza já foi aplicada no DataFrame de treinamento e  teste."
   ],
   "metadata": {}
  },
  {
   "cell_type": "markdown",
   "source": [
    "___\n",
    "#### CLASSIFICADOR AUTOMÁTICO DE SENTIMENTO:\n"
   ],
   "metadata": {}
  },
  {
   "cell_type": "markdown",
   "source": [
    "O filtro criado para a realização da classificação manual seguia o padrão especificado abaixo:\n",
    "\n",
    "**RELEVANTES**: As mensagens de texto com relevância mostravam a opinião e sentimentos, sejam eles positivos ou negativos, sobre a série.\n",
    "*Consideramos tweets relacionados a spoilers como relevantes pois eles também demonstram um forte sentimento que as pessoas possuem em relação à série.\n",
    "\n",
    "**IRRELEVANTES**: Classificamos como não relevantes tweets que não se encaixaram na nossa classificação de relevância, tweets que falavam sobre tópicos pessoais ou tweets que falavam sobre algum personagem específico da série.\n",
    "\n"
   ],
   "metadata": {}
  },
  {
   "cell_type": "markdown",
   "source": [
    "___\n",
    "#### MONTANDO UM CLASSIFICADOR NAÏVE-BAYES:\n"
   ],
   "metadata": {}
  },
  {
   "cell_type": "markdown",
   "source": [
    "- PREPARANDO OS DADOS DO TREINAMENTO"
   ],
   "metadata": {}
  },
  {
   "cell_type": "code",
   "execution_count": 57,
   "source": [
    "#criando filtros para separar os tweets relevantes dos irrelevantes\r\n",
    "\r\n",
    "filtro_nao_relevante = train['Classificação (relevante = 1, não relevante = 0)']==0\r\n",
    "filtro_relevante = train['Classificação (relevante = 1, não relevante = 0)']==1\r\n"
   ],
   "outputs": [],
   "metadata": {}
  },
  {
   "cell_type": "code",
   "execution_count": 58,
   "source": [
    "#separando em dois DFs diferentes os tweets relevantes e irrelevantes\r\n",
    "\r\n",
    "relevantes_train = train[filtro_relevante]\r\n",
    "nao_relevantes_train = train[filtro_nao_relevante]"
   ],
   "outputs": [],
   "metadata": {}
  },
  {
   "cell_type": "code",
   "execution_count": 59,
   "source": [
    "#criando uma string grande para armazenar todos os tweets de cada classificação\r\n",
    "\r\n",
    "relevantes_train_txt = ''\r\n",
    "for tweet in relevantes_train['Treinamento']:\r\n",
    "    relevantes_train_txt += \" \"\r\n",
    "    relevantes_train_txt += str(tweet)\r\n",
    "\r\n",
    "nao_relevantes_train_txt = ''\r\n",
    "for tweet in nao_relevantes_train['Treinamento']:\r\n",
    "    nao_relevantes_train_txt += \" \"\r\n",
    "    nao_relevantes_train_txt += str(tweet)"
   ],
   "outputs": [],
   "metadata": {}
  },
  {
   "cell_type": "code",
   "execution_count": 60,
   "source": [
    "#organizando os tweets em listas de palavras e pandas Series \r\n",
    "\r\n",
    "#fazendo a lista com todas as palavaras dos tweets\r\n",
    "todas_palavras_relevantes = relevantes_train_txt.split()\r\n",
    "todas_palavras_irrelevantes = nao_relevantes_train_txt.split()\r\n",
    "\r\n",
    "#transformando a lista em uma panda Series\r\n",
    "serie_relevante = pd.Series(todas_palavras_relevantes)\r\n",
    "serie_irrelevante = pd.Series(todas_palavras_irrelevantes)\r\n"
   ],
   "outputs": [],
   "metadata": {}
  },
  {
   "cell_type": "markdown",
   "source": [
    "- PREPARANDO AS TABELAS DE FREQUÊNCIA ABSOLUTA"
   ],
   "metadata": {}
  },
  {
   "cell_type": "code",
   "execution_count": 61,
   "source": [
    "tabela_relevante = serie_relevante.value_counts()\r\n",
    "tabela_irrelevante = serie_irrelevante.value_counts()"
   ],
   "outputs": [],
   "metadata": {}
  },
  {
   "cell_type": "markdown",
   "source": [
    "Considerando que o conjunto universo seja apenas a soma de todas as palavras em tweets relevantes e irrelevantes na base de treinamento, a seguir cria-se esse conjunto somando as strings de ambas. \r\n",
    "\r\n",
    "Além disso prosseguiu-se com o tratamento de dados criando uma lista com todas essas palavras e depois um pandas Series onde pode-se realizar a contagem da frequência de cada palavra e a partir daí começar o treinamento do programa partindo do conjunto universo de palavras.\r\n",
    "\r\n",
    "Para finalizar o tratamento do conjunto universo de palavras, cria-se uma lista de palavras excluindo as repetidas que serão usadas depois no método de ***Suavização de Laplace***."
   ],
   "metadata": {}
  },
  {
   "cell_type": "code",
   "execution_count": 62,
   "source": [
    "#organizando o conjunto universo de todas as palavras\r\n",
    "\r\n",
    "palavras = relevantes_train_txt + nao_relevantes_train_txt\r\n",
    "todas_palavras = palavras.split()\r\n",
    "serie_palavras = pd.Series(todas_palavras)\r\n",
    "tabela_palavras = serie_palavras.value_counts(normalize=True)\r\n",
    "\r\n",
    "\r\n",
    "palavras_sem_repeticao = []\r\n",
    "for e in todas_palavras:\r\n",
    "    if e not in palavras_sem_repeticao:\r\n",
    "        palavras_sem_repeticao.append(e)"
   ],
   "outputs": [],
   "metadata": {}
  },
  {
   "cell_type": "markdown",
   "source": [
    "- MONTANDO AS PROBABILIDADES"
   ],
   "metadata": {}
  },
  {
   "cell_type": "markdown",
   "source": [
    "##### Definindo os eventos:\n",
    "\n",
    "- $P(tweet|R)$: probabilidade de o tweet ser classificado como relevante;\n",
    "- $P(tweet|IR)$: probabilidade de o tweet ser classificado como irrelevante;\n",
    "- $P(R)$: probabilidade de um tweet ser relevante;\n",
    "- $P(IR)$: probabilidade de um tweet ser irrelevante;\n",
    "\n",
    "$$\\quad P(R) = \\frac{N palavras RELEVANTES}{N total palavras}$$  \n",
    "$$\\quad P(IR) = \\frac{N palavras IRRELEVANTES}{N total palavras}$$"
   ],
   "metadata": {}
  },
  {
   "cell_type": "code",
   "execution_count": 63,
   "source": [
    "#calculando a probabilidade de um tweet ser relevante ou irrelevante\r\n",
    "probR = len(serie_relevante)/len(serie_palavras)\r\n",
    "probIR = len(serie_irrelevante)/len(serie_palavras)"
   ],
   "outputs": [],
   "metadata": {}
  },
  {
   "cell_type": "markdown",
   "source": [
    "##### Aplicação do Teorema de Bayes:\n",
    "\n",
    "Apresentação do teorema:\n",
    "$\\quad P(A|B) = \\frac{P(B|A)P(A)}{P(B)}$  \n",
    "  \n",
    "Que nesse contexto seria equivalente à:  \n",
    "  \n",
    "$$\\quad P(R|tweet) = \\frac{P(tweet|R)P(R)}{P(tweet)}$$  \n",
    "$$\\quad P(IR|tweet) = \\frac{P(tweet|IR)P(IR)}{P(tweet)}$$  \n",
    "  \n",
    "É necessário realizar o cálculo de $P(tweet|R)$ e $P(tweet|IR)$ para aplicar o teorema e desse modo calcular a probbilidade de o tweet ser classificado como **relevante** ou **irrelevante**."
   ],
   "metadata": {}
  },
  {
   "cell_type": "code",
   "execution_count": 64,
   "source": [
    "#PRIMEIRA FUNÇÃO: calculando a probabilidade de uma X aparecer dado um dos conjuntos (relevante ou irrelevante)\r\n",
    "\r\n",
    "def probDadoconj(palavra, prob_conj, lista_palavras_conj):\r\n",
    "    if palavra in lista_palavras_conj:\r\n",
    "        return prob_conj[palavra]\r\n",
    "    else:\r\n",
    "        return 0\r\n",
    "\r\n",
    "#exemplo: print(probDadoconj(\"la\", tabela_relevante, todas_palavras_relevantes))"
   ],
   "outputs": [],
   "metadata": {}
  },
  {
   "cell_type": "markdown",
   "source": [
    "##### Suavização de Laplace (\"Laplace Soothing\"):\r\n",
    "\r\n",
    "Essa técnica é utilizada para evitar que uma probabilidade seja ZERO caso o Teorema de Bayes seja aplicado à uma amostra fora da base de dados que compõe o conjunto universo do que está sendo considerado como a totalidade de palavras em tweets.  \r\n",
    "\r\n",
    "A possibilidade de resultar em zero vem do cálculo da probabilidade de um tweet ser classificado como relevante ou irrelevante já que é efetuada a multiplicação entre as probabilidades de cada palavra ser um indicador de relevância ou irrelevância.  \r\n",
    "\r\n",
    "Aplicando a suavização:\r\n",
    "$$\\quad P(palavra|conjunto) = \\frac{P(palavra|conjunto)+1}{palavras  conjunto + palavras sem repetição}$$  "
   ],
   "metadata": {}
  },
  {
   "cell_type": "code",
   "execution_count": 65,
   "source": [
    "#SEGUNDA FUNÇÃO: aplicando a suavização de Laplace\r\n",
    "\r\n",
    "def aplicando_laplace(prob_dado_conj, lista_palavras_conj):\r\n",
    "    return (prob_dado_conj+1)/(len(lista_palavras_conj)+len(palavras_sem_repeticao))\r\n"
   ],
   "outputs": [],
   "metadata": {}
  },
  {
   "cell_type": "markdown",
   "source": [
    "- CLASSIFICAÇÃO FINAL: \n",
    "\n",
    "Para realizar a classificação compila-se ambas as funções em uma só para que seja mais fácil de aplicar para todo o documento de tweets na base de treino.  \n",
    "\n",
    "Nela é calculada a probabilidade de um tweet ser classificado como relevante e como irrelevante e no fim é feita uma comparação retornando a classificação com maior probabilidade de ocorrer:  \n",
    "\n",
    "$\\quad \\Rightarrow$ Se $P(R|tweet) > P(IR|tweet)$, então o tweet será classificado como de **relevante**.\n",
    "\n",
    "$\\quad \\Rightarrow$ Se $P(IR|tweet) > P(R|tweet)$, então o tweet será classificado como de **irrelevante**.\n",
    "\n",
    "**Lembrando que**: a probabilidade é construída multiplicando a probabilidade de cada palavra na frase do tweet estar presente em relevância ou irrelevância:  \n",
    "\n",
    "$\\quad P(tweet|conj) = \n",
    "P(palavra1|conj)\\cdot P(palavra2|conj)\\cdot P(palavra3|conj)\\cdot P(palavra4|conj)\\cdot...$  \n",
    "\n",
    "E portanto a fórmula ficará:  \n",
    "\n",
    "$P(conj|tweet) = P(palavra1|conj)\\cdot P(palavra2|conj)\\cdot P(palavra3|conj)\\cdot P(palavra4|conj)\\cdot... P(conj)$  \n",
    "Vale ressaltar que a divisão por $P(tweet)$ não é necessária na hora de fazer a comparação uma vez que em ambas a probabilidades isso seria feito, então podemos tratá-lo como um fator comum no cálculo e desconsiderar a divisão por simplificação da fórmula."
   ],
   "metadata": {}
  },
  {
   "cell_type": "code",
   "execution_count": 66,
   "source": [
    "#FUNÇÃO FINAL: compilado das duas funções anteriores\r\n",
    "#essa função realiza duas vezes as funções escritas anteriormente e depois comparam seus resultados para classificar\r\n",
    "\r\n",
    "def Classificacao(tweet):\r\n",
    "    prob_relevante = 1\r\n",
    "    lista_tweet = tweet.split()\r\n",
    "    for palavra in lista_tweet:\r\n",
    "        prob = probDadoconj(palavra, tabela_relevante, todas_palavras_relevantes)\r\n",
    "        prob_laplace = aplicando_laplace(prob, todas_palavras_relevantes)\r\n",
    "        prob_relevante *= prob_laplace\r\n",
    "    probRtweet = prob_relevante*probR\r\n",
    "    prob_irrelevante = 1\r\n",
    "    for palavra in lista_tweet:\r\n",
    "        prob = probDadoconj(palavra, tabela_irrelevante, todas_palavras_irrelevantes)\r\n",
    "        prob_laplace = aplicando_laplace(prob, todas_palavras_irrelevantes)\r\n",
    "        prob_irrelevante *= prob_laplace\r\n",
    "    probIRtweet = prob_irrelevante*probIR\r\n",
    "    if probRtweet < probIRtweet: \r\n",
    "        return 0 #Irrelevante\r\n",
    "    else: \r\n",
    "        return 1 #Relevante\r\n"
   ],
   "outputs": [],
   "metadata": {}
  },
  {
   "cell_type": "markdown",
   "source": [
    "#### Testando a função na base de treinamento (PRIEMIRO TESTE): "
   ],
   "metadata": {}
  },
  {
   "cell_type": "code",
   "execution_count": 67,
   "source": [
    "train['Classificacao_Naive_Bayes'] = train.Treinamento.apply(Classificacao)\r\n",
    "train"
   ],
   "outputs": [
    {
     "output_type": "execute_result",
     "data": {
      "text/html": [
       "<div>\n",
       "<style scoped>\n",
       "    .dataframe tbody tr th:only-of-type {\n",
       "        vertical-align: middle;\n",
       "    }\n",
       "\n",
       "    .dataframe tbody tr th {\n",
       "        vertical-align: top;\n",
       "    }\n",
       "\n",
       "    .dataframe thead th {\n",
       "        text-align: right;\n",
       "    }\n",
       "</style>\n",
       "<table border=\"1\" class=\"dataframe\">\n",
       "  <thead>\n",
       "    <tr style=\"text-align: right;\">\n",
       "      <th></th>\n",
       "      <th>Treinamento</th>\n",
       "      <th>Classificação (relevante = 1, não relevante = 0)</th>\n",
       "      <th>Classificacao_Naive_Bayes</th>\n",
       "    </tr>\n",
       "  </thead>\n",
       "  <tbody>\n",
       "    <tr>\n",
       "      <th>0</th>\n",
       "      <td>tô vend la cas papel mdsss prim ep tir fôleg</td>\n",
       "      <td>1.0</td>\n",
       "      <td>1</td>\n",
       "    </tr>\n",
       "    <tr>\n",
       "      <th>1</th>\n",
       "      <td>agor vou assist lá cas papel dorm porq amanhã ...</td>\n",
       "      <td>0.0</td>\n",
       "      <td>0</td>\n",
       "    </tr>\n",
       "    <tr>\n",
       "      <th>2</th>\n",
       "      <td>ded coç pra assist lá cas papel esper rosto_ex...</td>\n",
       "      <td>0.0</td>\n",
       "      <td>0</td>\n",
       "    </tr>\n",
       "    <tr>\n",
       "      <th>3</th>\n",
       "      <td>la cas papel faz torc pro band</td>\n",
       "      <td>1.0</td>\n",
       "      <td>1</td>\n",
       "    </tr>\n",
       "    <tr>\n",
       "      <th>4</th>\n",
       "      <td>la cas papel acab comig encontr desidrat tant ...</td>\n",
       "      <td>1.0</td>\n",
       "      <td>1</td>\n",
       "    </tr>\n",
       "    <tr>\n",
       "      <th>...</th>\n",
       "      <td>...</td>\n",
       "      <td>...</td>\n",
       "      <td>...</td>\n",
       "    </tr>\n",
       "    <tr>\n",
       "      <th>295</th>\n",
       "      <td>tô aqu assist la cas papel ler tod spoil cabeç...</td>\n",
       "      <td>0.0</td>\n",
       "      <td>0</td>\n",
       "    </tr>\n",
       "    <tr>\n",
       "      <th>296</th>\n",
       "      <td>ach nenhum mort la cas papel ia super nairob r...</td>\n",
       "      <td>1.0</td>\n",
       "      <td>1</td>\n",
       "    </tr>\n",
       "    <tr>\n",
       "      <th>297</th>\n",
       "      <td>caralh to chor igual vagabund porr la cas papel</td>\n",
       "      <td>1.0</td>\n",
       "      <td>1</td>\n",
       "    </tr>\n",
       "    <tr>\n",
       "      <th>298</th>\n",
       "      <td>car nunc chor tant quant chor olh final lá cas...</td>\n",
       "      <td>1.0</td>\n",
       "      <td>1</td>\n",
       "    </tr>\n",
       "    <tr>\n",
       "      <th>299</th>\n",
       "      <td>caralh la cas papel</td>\n",
       "      <td>1.0</td>\n",
       "      <td>1</td>\n",
       "    </tr>\n",
       "  </tbody>\n",
       "</table>\n",
       "<p>300 rows × 3 columns</p>\n",
       "</div>"
      ],
      "text/plain": [
       "                                           Treinamento  \\\n",
       "0         tô vend la cas papel mdsss prim ep tir fôleg   \n",
       "1    agor vou assist lá cas papel dorm porq amanhã ...   \n",
       "2    ded coç pra assist lá cas papel esper rosto_ex...   \n",
       "3                       la cas papel faz torc pro band   \n",
       "4    la cas papel acab comig encontr desidrat tant ...   \n",
       "..                                                 ...   \n",
       "295  tô aqu assist la cas papel ler tod spoil cabeç...   \n",
       "296  ach nenhum mort la cas papel ia super nairob r...   \n",
       "297    caralh to chor igual vagabund porr la cas papel   \n",
       "298  car nunc chor tant quant chor olh final lá cas...   \n",
       "299                                caralh la cas papel   \n",
       "\n",
       "     Classificação (relevante = 1, não relevante = 0)  \\\n",
       "0                                                 1.0   \n",
       "1                                                 0.0   \n",
       "2                                                 0.0   \n",
       "3                                                 1.0   \n",
       "4                                                 1.0   \n",
       "..                                                ...   \n",
       "295                                               0.0   \n",
       "296                                               1.0   \n",
       "297                                               1.0   \n",
       "298                                               1.0   \n",
       "299                                               1.0   \n",
       "\n",
       "     Classificacao_Naive_Bayes  \n",
       "0                            1  \n",
       "1                            0  \n",
       "2                            0  \n",
       "3                            1  \n",
       "4                            1  \n",
       "..                         ...  \n",
       "295                          0  \n",
       "296                          1  \n",
       "297                          1  \n",
       "298                          1  \n",
       "299                          1  \n",
       "\n",
       "[300 rows x 3 columns]"
      ]
     },
     "metadata": {},
     "execution_count": 67
    }
   ],
   "metadata": {}
  },
  {
   "cell_type": "code",
   "execution_count": 68,
   "source": [
    "#Porcentagem de acerto no conjunto de Treino:\r\n",
    "\r\n",
    "verdadeiros_positivos_train=train.loc[(train['Classificacao_Naive_Bayes']==1)&(train['Classificação (relevante = 1, não relevante = 0)']==1),:].shape[0]\r\n",
    "verdadeiros_negativos_train=train.loc[(train['Classificacao_Naive_Bayes']==0)&(train['Classificação (relevante = 1, não relevante = 0)']==0),:].shape[0]\r\n",
    "print(f'A acurácia na base de treinamento foi de: {((verdadeiros_positivos_train+verdadeiros_negativos_train)/train.shape[0])*100}%')"
   ],
   "outputs": [
    {
     "output_type": "stream",
     "name": "stdout",
     "text": [
      "A acurácia na base de treinamento foi de: 94.33333333333334%\n"
     ]
    }
   ],
   "metadata": {}
  },
  {
   "cell_type": "markdown",
   "source": [
    "___\n",
    "#### BASE DE TESTE:"
   ],
   "metadata": {}
  },
  {
   "cell_type": "markdown",
   "source": [
    "- VERIFICANDO A PERFORMANCE DO CLASSIFICADOR\n",
    "\n"
   ],
   "metadata": {}
  },
  {
   "cell_type": "code",
   "execution_count": 69,
   "source": [
    "test['Classificacao_Naive_Bayes'] = test['Teste'].apply(Classificacao)\r\n",
    "test"
   ],
   "outputs": [
    {
     "output_type": "execute_result",
     "data": {
      "text/html": [
       "<div>\n",
       "<style scoped>\n",
       "    .dataframe tbody tr th:only-of-type {\n",
       "        vertical-align: middle;\n",
       "    }\n",
       "\n",
       "    .dataframe tbody tr th {\n",
       "        vertical-align: top;\n",
       "    }\n",
       "\n",
       "    .dataframe thead th {\n",
       "        text-align: right;\n",
       "    }\n",
       "</style>\n",
       "<table border=\"1\" class=\"dataframe\">\n",
       "  <thead>\n",
       "    <tr style=\"text-align: right;\">\n",
       "      <th></th>\n",
       "      <th>Teste</th>\n",
       "      <th>Classificação (relevante = 1, não relevante = 0)</th>\n",
       "      <th>Classificacao_Naive_Bayes</th>\n",
       "    </tr>\n",
       "  </thead>\n",
       "  <tbody>\n",
       "    <tr>\n",
       "      <th>0</th>\n",
       "      <td>quer termin ver nov part la cas papel má to tã...</td>\n",
       "      <td>0</td>\n",
       "      <td>0</td>\n",
       "    </tr>\n",
       "    <tr>\n",
       "      <th>1</th>\n",
       "      <td>exist outr séri mund mex comig la cas papel pqp</td>\n",
       "      <td>1</td>\n",
       "      <td>1</td>\n",
       "    </tr>\n",
       "    <tr>\n",
       "      <th>2</th>\n",
       "      <td>tá fod desvi tod spoil la cas papel</td>\n",
       "      <td>1</td>\n",
       "      <td>1</td>\n",
       "    </tr>\n",
       "    <tr>\n",
       "      <th>3</th>\n",
       "      <td>todoroki_jun né tô sent lá cas papel</td>\n",
       "      <td>0</td>\n",
       "      <td>1</td>\n",
       "    </tr>\n",
       "    <tr>\n",
       "      <th>4</th>\n",
       "      <td>la cas papel tão ruim consegu termin so t t q ...</td>\n",
       "      <td>1</td>\n",
       "      <td>0</td>\n",
       "    </tr>\n",
       "    <tr>\n",
       "      <th>...</th>\n",
       "      <td>...</td>\n",
       "      <td>...</td>\n",
       "      <td>...</td>\n",
       "    </tr>\n",
       "    <tr>\n",
       "      <th>195</th>\n",
       "      <td>respeit casal fav la cas papel mort liter rost...</td>\n",
       "      <td>0</td>\n",
       "      <td>1</td>\n",
       "    </tr>\n",
       "    <tr>\n",
       "      <th>196</th>\n",
       "      <td>assist la cas papel pod fal mal mão_em_v_de_vi...</td>\n",
       "      <td>0</td>\n",
       "      <td>0</td>\n",
       "    </tr>\n",
       "    <tr>\n",
       "      <th>197</th>\n",
       "      <td>sex kk vest roup aí gent vai maraton la cas pa...</td>\n",
       "      <td>0</td>\n",
       "      <td>0</td>\n",
       "    </tr>\n",
       "    <tr>\n",
       "      <th>198</th>\n",
       "      <td>deu final la cas papel…………</td>\n",
       "      <td>1</td>\n",
       "      <td>1</td>\n",
       "    </tr>\n",
       "    <tr>\n",
       "      <th>199</th>\n",
       "      <td>sex rosto_com_sobrancelha_levant naokkkkk vest...</td>\n",
       "      <td>0</td>\n",
       "      <td>0</td>\n",
       "    </tr>\n",
       "  </tbody>\n",
       "</table>\n",
       "<p>200 rows × 3 columns</p>\n",
       "</div>"
      ],
      "text/plain": [
       "                                                 Teste  \\\n",
       "0    quer termin ver nov part la cas papel má to tã...   \n",
       "1      exist outr séri mund mex comig la cas papel pqp   \n",
       "2                  tá fod desvi tod spoil la cas papel   \n",
       "3                 todoroki_jun né tô sent lá cas papel   \n",
       "4    la cas papel tão ruim consegu termin so t t q ...   \n",
       "..                                                 ...   \n",
       "195  respeit casal fav la cas papel mort liter rost...   \n",
       "196  assist la cas papel pod fal mal mão_em_v_de_vi...   \n",
       "197  sex kk vest roup aí gent vai maraton la cas pa...   \n",
       "198                         deu final la cas papel…………   \n",
       "199  sex rosto_com_sobrancelha_levant naokkkkk vest...   \n",
       "\n",
       "     Classificação (relevante = 1, não relevante = 0)  \\\n",
       "0                                                   0   \n",
       "1                                                   1   \n",
       "2                                                   1   \n",
       "3                                                   0   \n",
       "4                                                   1   \n",
       "..                                                ...   \n",
       "195                                                 0   \n",
       "196                                                 0   \n",
       "197                                                 0   \n",
       "198                                                 1   \n",
       "199                                                 0   \n",
       "\n",
       "     Classificacao_Naive_Bayes  \n",
       "0                            0  \n",
       "1                            1  \n",
       "2                            1  \n",
       "3                            1  \n",
       "4                            0  \n",
       "..                         ...  \n",
       "195                          1  \n",
       "196                          0  \n",
       "197                          0  \n",
       "198                          1  \n",
       "199                          0  \n",
       "\n",
       "[200 rows x 3 columns]"
      ]
     },
     "metadata": {},
     "execution_count": 69
    }
   ],
   "metadata": {}
  },
  {
   "cell_type": "markdown",
   "source": [
    "- DESCRIÇÃO DA PERFORMANCE DO CLASSIFICADOR:"
   ],
   "metadata": {}
  },
  {
   "cell_type": "markdown",
   "source": [
    "As contagens a seguir são feitas comparando os valores da coluna em que fizemos a classificação manualmente *\"Classificação (relevante = 1, não relevante = 0)\"* com os valores da coluna em que a classificação foi feita de maneira automática pela função criada anteriormente para nosso classificador *\"Classificacao_Naive_Bayes\"*."
   ],
   "metadata": {}
  },
  {
   "cell_type": "markdown",
   "source": [
    "- Porcentagem de verdadeiros positivos (mensagens relevantes e que são classificadas como relevantes):"
   ],
   "metadata": {}
  },
  {
   "cell_type": "code",
   "execution_count": 70,
   "source": [
    "verdadeiros_positivos=test.loc[(test['Classificacao_Naive_Bayes']==1)&(test['Classificação (relevante = 1, não relevante = 0)']==1),:].shape[0]\r\n",
    "print(f'A porcentagem de verdadeiros positivos na base de teste foi de: {(verdadeiros_positivos/test.shape[0])*100}%')"
   ],
   "outputs": [
    {
     "output_type": "stream",
     "name": "stdout",
     "text": [
      "A porcentagem de verdadeiros positivos na base de teste foi de: 51.0%\n"
     ]
    }
   ],
   "metadata": {}
  },
  {
   "cell_type": "markdown",
   "source": [
    "- Porcentagem de falsos positivos (mensagens irrelevantes e que são classificadas como relevantes):"
   ],
   "metadata": {}
  },
  {
   "cell_type": "code",
   "execution_count": 71,
   "source": [
    "falsos_positivos=test.loc[(test['Classificacao_Naive_Bayes']==1)&(test['Classificação (relevante = 1, não relevante = 0)']==0),:].shape[0]\r\n",
    "print(f'A porcentagem de falsos positivos na base de teste foi de: {(falsos_positivos/test.shape[0])*100}%')"
   ],
   "outputs": [
    {
     "output_type": "stream",
     "name": "stdout",
     "text": [
      "A porcentagem de falsos positivos na base de teste foi de: 23.5%\n"
     ]
    }
   ],
   "metadata": {}
  },
  {
   "cell_type": "markdown",
   "source": [
    "- Porcentagem de verdadeiros negativos (mensagens irrelevantes e que são classificadas como irrelevantes):\n",
    "\n"
   ],
   "metadata": {}
  },
  {
   "cell_type": "code",
   "execution_count": 72,
   "source": [
    "verdadeiros_negativos=test.loc[(test['Classificacao_Naive_Bayes']==0)&(test['Classificação (relevante = 1, não relevante = 0)']==0),:].shape[0]\r\n",
    "print(f'A porcentagem de verdadeiros negativos na base de teste foi de: {(verdadeiros_negativos/test.shape[0])*100}%')"
   ],
   "outputs": [
    {
     "output_type": "stream",
     "name": "stdout",
     "text": [
      "A porcentagem de verdadeiros negativos na base de teste foi de: 18.5%\n"
     ]
    }
   ],
   "metadata": {}
  },
  {
   "cell_type": "markdown",
   "source": [
    "- Porcentagem de falsos negativos (mensagens relevantes e que são classificadas como irrelevantes):"
   ],
   "metadata": {}
  },
  {
   "cell_type": "code",
   "execution_count": 73,
   "source": [
    "falsos_negativos=test.loc[(test['Classificacao_Naive_Bayes']==0)&(test['Classificação (relevante = 1, não relevante = 0)']==1),:].shape[0]\r\n",
    "print(f'A porcentagem de falsos negativos na base de teste foi de: {(falsos_negativos/test.shape[0])*100}%')"
   ],
   "outputs": [
    {
     "output_type": "stream",
     "name": "stdout",
     "text": [
      "A porcentagem de falsos negativos na base de teste foi de: 7.000000000000001%\n"
     ]
    }
   ],
   "metadata": {}
  },
  {
   "cell_type": "markdown",
   "source": [
    "- Acurácia (mensagens corretamente classificadas, independente da categoria):"
   ],
   "metadata": {}
  },
  {
   "cell_type": "code",
   "execution_count": 74,
   "source": [
    "print(f'A acurácia na base de teste foi de: {((verdadeiros_positivos+verdadeiros_negativos)/test.shape[0])*100}%')"
   ],
   "outputs": [
    {
     "output_type": "stream",
     "name": "stdout",
     "text": [
      "A acurácia na base de teste foi de: 69.5%\n"
     ]
    }
   ],
   "metadata": {}
  },
  {
   "cell_type": "markdown",
   "source": [
    "___\n",
    "#### CONCLUINDO:"
   ],
   "metadata": {}
  },
  {
   "cell_type": "markdown",
   "source": [
    "#### Comparativo qualitativo sobre os percentuais obtidos:"
   ],
   "metadata": {}
  },
  {
   "cell_type": "markdown",
   "source": [],
   "metadata": {}
  },
  {
   "cell_type": "markdown",
   "source": [
    "#### Mensagens com dupla negação e sarcasmo e a ingenuidade do Naïve Bayes:"
   ],
   "metadata": {}
  },
  {
   "cell_type": "markdown",
   "source": [
    "O programa Naïve Bayes pode ser caracterizadom como um sitema ingênuo, uma vez que dentro do calculo das probabilidades ele considera que cada palavra dentro dos tweets são independentes entre si, e que suas probabilidades de aparição independem completamente dos elementos que a antecedem ou a seguem. Isso porque o programa não conhece a língua portuguesa ou qualquer outra língua falada; a gramática e regras de escrita/fala não é conhecida pelo algorítmo, tudo que ele tem é um universo reduzido de palavras na língua portuguesa providos da base de 500 tweets selecionados no começo do projeto. Isso ajuda a explicar a falha que o programa apresenta ao se deparar com textos sarcásticos ou com outras figuras de linguagem.\n",
    "\n",
    "Tanto o sarcasmo quanto a dupla negação são elementos de linguagem que vêm do uso cotidiano e \"relaxado\" da língua. Não existe nenhuma regra formal concretizada que defina um padrão no uso de nenhuma delas.  \n",
    "\n",
    "Com isso dito começa a ficar claro como o programa reage à tweets sarcasticos ou que contém dupla negação. Como ele não conhece as características específicas da linguagem, o programa vai tratar a frase com o sentido **literal**, que muitas vezes é o oposto do que o sarcasmo ou a dupla negação querem dizer.  \n",
    "\n",
    "Por isso pode-se dizer que o programa pode ser flaho na hora de classificar tweets desse gênero, dada sua incapacidade de compreender as especificidades da língua portuguesa."
   ],
   "metadata": {}
  },
  {
   "cell_type": "markdown",
   "source": [
    "#### Dependência da classificação manual para alimentação da base de dados:"
   ],
   "metadata": {}
  },
  {
   "cell_type": "markdown",
   "source": [
    "Como abordado anteriormente, o programa desconhece as especificidades das línguas, muitas vezes flahando em classificar corretamente expressões de linguagem, ditados populares ou figuras de linguagem.  \n",
    "\n",
    "Isso impossibilita que a classificação automática de novos tweets para a base de dados seja feita uma vez que a classificação errônea desses casos criaria uma incerteza e inconsistência na classificação dos demais que com o tempo seria propagada contribuido negativamente para a maiior acurácia e eficácia do programa."
   ],
   "metadata": {}
  },
  {
   "cell_type": "markdown",
   "source": [
    "#### Plano de expansão:"
   ],
   "metadata": {}
  },
  {
   "cell_type": "markdown",
   "source": [],
   "metadata": {}
  },
  {
   "cell_type": "markdown",
   "source": [
    "#### Diferentes cenários de uso para o classificador Naive-Bayes:"
   ],
   "metadata": {}
  },
  {
   "cell_type": "markdown",
   "source": [],
   "metadata": {}
  },
  {
   "cell_type": "markdown",
   "source": [
    "#### Possíveis melhorias no classificador e como implementá-las:"
   ],
   "metadata": {}
  },
  {
   "cell_type": "markdown",
   "source": [
    "- Ainda mais limpezas na base de dados:  \r\n",
    "    Além da limpeza de stopwords e stemming, poderíamos propor outras limpezas/transformações que não afetem a qualidade da informação.  \r\n",
    "    Alguns exemplos:  \r\n",
    "    - Lemmatization:  \r\n",
    "    Ao contrário do Stemming, que funciona cortando o final da palavra, levando em conta uma lista de sufixos comuns que podem ser encontrados em uma palavra flexionada, o processo de Lemmatization leva em consideração a análise morfológica das palavras. Para isso, é necessário ter dicionários detalhados que o algoritmo possa examinar para ligar a palavra de volta a seu 'lemma'. \r\n",
    "    Por exemplo: enquanto a palavra \"estudando\" no stemming seria reduzida a 'estud', no lemmatization ela seria ligada a base 'estudo'.  \r\n",
    "    Poderíamos implementar lemmatization com o uso de bibliotecas. O Natural Language Toolkit, ou NLTK, é um conjunto famoso de bibliotecas para processamento de linguagem natural para inglês, usamos funções dele para implementar a limpeza de stopwords e o stemming, mas ele não possuí nenhum lemmatizer para a língua portuguesa.  \r\n",
    "    Ao pesquisar por \"lemmatization python portugues\", encontramos um post em um blog apresentando diversas opções de lemmatizers para a língua portuguesa: [Portuguese Lemmatizers (2020 update)](https://lars76.github.io/2018/05/08/portuguese-lemmatizers.html), dentre essas opções a biblioteca 'Universal Lemmatizer' parece ser a mais adequada pois ela possui variações específicas para o português brasileiro.\r\n",
    "\r\n",
    "\r\n",
    "- N-grams:\r\n",
    "- TF-IDF"
   ],
   "metadata": {}
  },
  {
   "cell_type": "markdown",
   "source": [
    "___\r\n",
    "### Qualidade do Classificador a partir de novas separações dos tweets entre Treinamento e Teste\r\n",
    "\r\n",
    "Para fazer esse item do Projeto, utilizamos a biblioteca scikit-learn (sklearn) que contém diversas funções úteis para a análise preditiva de dados. Em especial, utilizaremos a função train_test_split que divide listas e séries de dados em bases de treinamento e teste aleatoriamente."
   ],
   "metadata": {}
  },
  {
   "cell_type": "markdown",
   "source": [],
   "metadata": {}
  },
  {
   "cell_type": "code",
   "execution_count": 75,
   "source": [
    "from sklearn.model_selection import train_test_split"
   ],
   "outputs": [],
   "metadata": {}
  },
  {
   "cell_type": "markdown",
   "source": [
    "Para poder usar a função para dividir nossa base inteira em novas bases de treinamento e teste, primeiramente vamos unir as duas bases em uma única série a partir da função 'concat' do Pandas.  \r\n",
    "  \r\n",
    "Para que todos os tweets fiquem em um uma única coluna para que eles possam ser divididos novamente, precisamos renomear a coluna que descrevia se ele fazia parte do teste ou treinamento para um nome unificado 'Tweets'.  \r\n",
    "  \r\n",
    "Ademais, precisamos remover a coluna de classificação feita pelo nosso classificador ('Classificacao_Naive_Bayes'), para que ela possa ser feita novamente em cada uma das repetições do processo com base na nova base de treinamento.  \r\n",
    "  \r\n",
    "*Note que não precisamos aplicar as funções de limpeza novamente nas bases pois a base total de tweets já está sendo criada com as séries previamente limpas."
   ],
   "metadata": {}
  },
  {
   "cell_type": "code",
   "execution_count": 76,
   "source": [
    "train_para_concat = train\r\n",
    "train_para_concat = train_para_concat.rename(columns={\"Treinamento\": \"Tweets\"})\r\n",
    "train_para_concat =train_para_concat.drop(['Classificacao_Naive_Bayes'], axis=1)\r\n",
    "train_para_concat"
   ],
   "outputs": [
    {
     "output_type": "execute_result",
     "data": {
      "text/html": [
       "<div>\n",
       "<style scoped>\n",
       "    .dataframe tbody tr th:only-of-type {\n",
       "        vertical-align: middle;\n",
       "    }\n",
       "\n",
       "    .dataframe tbody tr th {\n",
       "        vertical-align: top;\n",
       "    }\n",
       "\n",
       "    .dataframe thead th {\n",
       "        text-align: right;\n",
       "    }\n",
       "</style>\n",
       "<table border=\"1\" class=\"dataframe\">\n",
       "  <thead>\n",
       "    <tr style=\"text-align: right;\">\n",
       "      <th></th>\n",
       "      <th>Tweets</th>\n",
       "      <th>Classificação (relevante = 1, não relevante = 0)</th>\n",
       "    </tr>\n",
       "  </thead>\n",
       "  <tbody>\n",
       "    <tr>\n",
       "      <th>0</th>\n",
       "      <td>tô vend la cas papel mdsss prim ep tir fôleg</td>\n",
       "      <td>1.0</td>\n",
       "    </tr>\n",
       "    <tr>\n",
       "      <th>1</th>\n",
       "      <td>agor vou assist lá cas papel dorm porq amanhã ...</td>\n",
       "      <td>0.0</td>\n",
       "    </tr>\n",
       "    <tr>\n",
       "      <th>2</th>\n",
       "      <td>ded coç pra assist lá cas papel esper rosto_ex...</td>\n",
       "      <td>0.0</td>\n",
       "    </tr>\n",
       "    <tr>\n",
       "      <th>3</th>\n",
       "      <td>la cas papel faz torc pro band</td>\n",
       "      <td>1.0</td>\n",
       "    </tr>\n",
       "    <tr>\n",
       "      <th>4</th>\n",
       "      <td>la cas papel acab comig encontr desidrat tant ...</td>\n",
       "      <td>1.0</td>\n",
       "    </tr>\n",
       "    <tr>\n",
       "      <th>...</th>\n",
       "      <td>...</td>\n",
       "      <td>...</td>\n",
       "    </tr>\n",
       "    <tr>\n",
       "      <th>295</th>\n",
       "      <td>tô aqu assist la cas papel ler tod spoil cabeç...</td>\n",
       "      <td>0.0</td>\n",
       "    </tr>\n",
       "    <tr>\n",
       "      <th>296</th>\n",
       "      <td>ach nenhum mort la cas papel ia super nairob r...</td>\n",
       "      <td>1.0</td>\n",
       "    </tr>\n",
       "    <tr>\n",
       "      <th>297</th>\n",
       "      <td>caralh to chor igual vagabund porr la cas papel</td>\n",
       "      <td>1.0</td>\n",
       "    </tr>\n",
       "    <tr>\n",
       "      <th>298</th>\n",
       "      <td>car nunc chor tant quant chor olh final lá cas...</td>\n",
       "      <td>1.0</td>\n",
       "    </tr>\n",
       "    <tr>\n",
       "      <th>299</th>\n",
       "      <td>caralh la cas papel</td>\n",
       "      <td>1.0</td>\n",
       "    </tr>\n",
       "  </tbody>\n",
       "</table>\n",
       "<p>300 rows × 2 columns</p>\n",
       "</div>"
      ],
      "text/plain": [
       "                                                Tweets  \\\n",
       "0         tô vend la cas papel mdsss prim ep tir fôleg   \n",
       "1    agor vou assist lá cas papel dorm porq amanhã ...   \n",
       "2    ded coç pra assist lá cas papel esper rosto_ex...   \n",
       "3                       la cas papel faz torc pro band   \n",
       "4    la cas papel acab comig encontr desidrat tant ...   \n",
       "..                                                 ...   \n",
       "295  tô aqu assist la cas papel ler tod spoil cabeç...   \n",
       "296  ach nenhum mort la cas papel ia super nairob r...   \n",
       "297    caralh to chor igual vagabund porr la cas papel   \n",
       "298  car nunc chor tant quant chor olh final lá cas...   \n",
       "299                                caralh la cas papel   \n",
       "\n",
       "     Classificação (relevante = 1, não relevante = 0)  \n",
       "0                                                 1.0  \n",
       "1                                                 0.0  \n",
       "2                                                 0.0  \n",
       "3                                                 1.0  \n",
       "4                                                 1.0  \n",
       "..                                                ...  \n",
       "295                                               0.0  \n",
       "296                                               1.0  \n",
       "297                                               1.0  \n",
       "298                                               1.0  \n",
       "299                                               1.0  \n",
       "\n",
       "[300 rows x 2 columns]"
      ]
     },
     "metadata": {},
     "execution_count": 76
    }
   ],
   "metadata": {}
  },
  {
   "cell_type": "code",
   "execution_count": 77,
   "source": [
    "test_para_concat = test\r\n",
    "test_para_concat = test_para_concat.rename(columns={\"Teste\": \"Tweets\"})\r\n",
    "test_para_concat =test_para_concat.drop(['Classificacao_Naive_Bayes'], axis=1)\r\n",
    "test_para_concat"
   ],
   "outputs": [
    {
     "output_type": "execute_result",
     "data": {
      "text/html": [
       "<div>\n",
       "<style scoped>\n",
       "    .dataframe tbody tr th:only-of-type {\n",
       "        vertical-align: middle;\n",
       "    }\n",
       "\n",
       "    .dataframe tbody tr th {\n",
       "        vertical-align: top;\n",
       "    }\n",
       "\n",
       "    .dataframe thead th {\n",
       "        text-align: right;\n",
       "    }\n",
       "</style>\n",
       "<table border=\"1\" class=\"dataframe\">\n",
       "  <thead>\n",
       "    <tr style=\"text-align: right;\">\n",
       "      <th></th>\n",
       "      <th>Tweets</th>\n",
       "      <th>Classificação (relevante = 1, não relevante = 0)</th>\n",
       "    </tr>\n",
       "  </thead>\n",
       "  <tbody>\n",
       "    <tr>\n",
       "      <th>0</th>\n",
       "      <td>quer termin ver nov part la cas papel má to tã...</td>\n",
       "      <td>0</td>\n",
       "    </tr>\n",
       "    <tr>\n",
       "      <th>1</th>\n",
       "      <td>exist outr séri mund mex comig la cas papel pqp</td>\n",
       "      <td>1</td>\n",
       "    </tr>\n",
       "    <tr>\n",
       "      <th>2</th>\n",
       "      <td>tá fod desvi tod spoil la cas papel</td>\n",
       "      <td>1</td>\n",
       "    </tr>\n",
       "    <tr>\n",
       "      <th>3</th>\n",
       "      <td>todoroki_jun né tô sent lá cas papel</td>\n",
       "      <td>0</td>\n",
       "    </tr>\n",
       "    <tr>\n",
       "      <th>4</th>\n",
       "      <td>la cas papel tão ruim consegu termin so t t q ...</td>\n",
       "      <td>1</td>\n",
       "    </tr>\n",
       "    <tr>\n",
       "      <th>...</th>\n",
       "      <td>...</td>\n",
       "      <td>...</td>\n",
       "    </tr>\n",
       "    <tr>\n",
       "      <th>195</th>\n",
       "      <td>respeit casal fav la cas papel mort liter rost...</td>\n",
       "      <td>0</td>\n",
       "    </tr>\n",
       "    <tr>\n",
       "      <th>196</th>\n",
       "      <td>assist la cas papel pod fal mal mão_em_v_de_vi...</td>\n",
       "      <td>0</td>\n",
       "    </tr>\n",
       "    <tr>\n",
       "      <th>197</th>\n",
       "      <td>sex kk vest roup aí gent vai maraton la cas pa...</td>\n",
       "      <td>0</td>\n",
       "    </tr>\n",
       "    <tr>\n",
       "      <th>198</th>\n",
       "      <td>deu final la cas papel…………</td>\n",
       "      <td>1</td>\n",
       "    </tr>\n",
       "    <tr>\n",
       "      <th>199</th>\n",
       "      <td>sex rosto_com_sobrancelha_levant naokkkkk vest...</td>\n",
       "      <td>0</td>\n",
       "    </tr>\n",
       "  </tbody>\n",
       "</table>\n",
       "<p>200 rows × 2 columns</p>\n",
       "</div>"
      ],
      "text/plain": [
       "                                                Tweets  \\\n",
       "0    quer termin ver nov part la cas papel má to tã...   \n",
       "1      exist outr séri mund mex comig la cas papel pqp   \n",
       "2                  tá fod desvi tod spoil la cas papel   \n",
       "3                 todoroki_jun né tô sent lá cas papel   \n",
       "4    la cas papel tão ruim consegu termin so t t q ...   \n",
       "..                                                 ...   \n",
       "195  respeit casal fav la cas papel mort liter rost...   \n",
       "196  assist la cas papel pod fal mal mão_em_v_de_vi...   \n",
       "197  sex kk vest roup aí gent vai maraton la cas pa...   \n",
       "198                         deu final la cas papel…………   \n",
       "199  sex rosto_com_sobrancelha_levant naokkkkk vest...   \n",
       "\n",
       "     Classificação (relevante = 1, não relevante = 0)  \n",
       "0                                                   0  \n",
       "1                                                   1  \n",
       "2                                                   1  \n",
       "3                                                   0  \n",
       "4                                                   1  \n",
       "..                                                ...  \n",
       "195                                                 0  \n",
       "196                                                 0  \n",
       "197                                                 0  \n",
       "198                                                 1  \n",
       "199                                                 0  \n",
       "\n",
       "[200 rows x 2 columns]"
      ]
     },
     "metadata": {},
     "execution_count": 77
    }
   ],
   "metadata": {}
  },
  {
   "cell_type": "code",
   "execution_count": 78,
   "source": [
    "base_inteira_tweets = pd.concat([train_para_concat, test_para_concat], ignore_index=True, sort=False)\r\n",
    "base_inteira_tweets"
   ],
   "outputs": [
    {
     "output_type": "execute_result",
     "data": {
      "text/html": [
       "<div>\n",
       "<style scoped>\n",
       "    .dataframe tbody tr th:only-of-type {\n",
       "        vertical-align: middle;\n",
       "    }\n",
       "\n",
       "    .dataframe tbody tr th {\n",
       "        vertical-align: top;\n",
       "    }\n",
       "\n",
       "    .dataframe thead th {\n",
       "        text-align: right;\n",
       "    }\n",
       "</style>\n",
       "<table border=\"1\" class=\"dataframe\">\n",
       "  <thead>\n",
       "    <tr style=\"text-align: right;\">\n",
       "      <th></th>\n",
       "      <th>Tweets</th>\n",
       "      <th>Classificação (relevante = 1, não relevante = 0)</th>\n",
       "    </tr>\n",
       "  </thead>\n",
       "  <tbody>\n",
       "    <tr>\n",
       "      <th>0</th>\n",
       "      <td>tô vend la cas papel mdsss prim ep tir fôleg</td>\n",
       "      <td>1.0</td>\n",
       "    </tr>\n",
       "    <tr>\n",
       "      <th>1</th>\n",
       "      <td>agor vou assist lá cas papel dorm porq amanhã ...</td>\n",
       "      <td>0.0</td>\n",
       "    </tr>\n",
       "    <tr>\n",
       "      <th>2</th>\n",
       "      <td>ded coç pra assist lá cas papel esper rosto_ex...</td>\n",
       "      <td>0.0</td>\n",
       "    </tr>\n",
       "    <tr>\n",
       "      <th>3</th>\n",
       "      <td>la cas papel faz torc pro band</td>\n",
       "      <td>1.0</td>\n",
       "    </tr>\n",
       "    <tr>\n",
       "      <th>4</th>\n",
       "      <td>la cas papel acab comig encontr desidrat tant ...</td>\n",
       "      <td>1.0</td>\n",
       "    </tr>\n",
       "    <tr>\n",
       "      <th>...</th>\n",
       "      <td>...</td>\n",
       "      <td>...</td>\n",
       "    </tr>\n",
       "    <tr>\n",
       "      <th>495</th>\n",
       "      <td>respeit casal fav la cas papel mort liter rost...</td>\n",
       "      <td>0.0</td>\n",
       "    </tr>\n",
       "    <tr>\n",
       "      <th>496</th>\n",
       "      <td>assist la cas papel pod fal mal mão_em_v_de_vi...</td>\n",
       "      <td>0.0</td>\n",
       "    </tr>\n",
       "    <tr>\n",
       "      <th>497</th>\n",
       "      <td>sex kk vest roup aí gent vai maraton la cas pa...</td>\n",
       "      <td>0.0</td>\n",
       "    </tr>\n",
       "    <tr>\n",
       "      <th>498</th>\n",
       "      <td>deu final la cas papel…………</td>\n",
       "      <td>1.0</td>\n",
       "    </tr>\n",
       "    <tr>\n",
       "      <th>499</th>\n",
       "      <td>sex rosto_com_sobrancelha_levant naokkkkk vest...</td>\n",
       "      <td>0.0</td>\n",
       "    </tr>\n",
       "  </tbody>\n",
       "</table>\n",
       "<p>500 rows × 2 columns</p>\n",
       "</div>"
      ],
      "text/plain": [
       "                                                Tweets  \\\n",
       "0         tô vend la cas papel mdsss prim ep tir fôleg   \n",
       "1    agor vou assist lá cas papel dorm porq amanhã ...   \n",
       "2    ded coç pra assist lá cas papel esper rosto_ex...   \n",
       "3                       la cas papel faz torc pro band   \n",
       "4    la cas papel acab comig encontr desidrat tant ...   \n",
       "..                                                 ...   \n",
       "495  respeit casal fav la cas papel mort liter rost...   \n",
       "496  assist la cas papel pod fal mal mão_em_v_de_vi...   \n",
       "497  sex kk vest roup aí gent vai maraton la cas pa...   \n",
       "498                         deu final la cas papel…………   \n",
       "499  sex rosto_com_sobrancelha_levant naokkkkk vest...   \n",
       "\n",
       "     Classificação (relevante = 1, não relevante = 0)  \n",
       "0                                                 1.0  \n",
       "1                                                 0.0  \n",
       "2                                                 0.0  \n",
       "3                                                 1.0  \n",
       "4                                                 1.0  \n",
       "..                                                ...  \n",
       "495                                               0.0  \n",
       "496                                               0.0  \n",
       "497                                               0.0  \n",
       "498                                               1.0  \n",
       "499                                               0.0  \n",
       "\n",
       "[500 rows x 2 columns]"
      ]
     },
     "metadata": {},
     "execution_count": 78
    }
   ],
   "metadata": {}
  },
  {
   "cell_type": "markdown",
   "source": [
    "#### Separando a base inteira entre treinamento e teste 100 vezes e calculando a acurácia do classificador em cada uma das separações:\r\n",
    "  \r\n",
    "Em cada repetição do loop, a função train_test_split está sendo executada dividindo a base completa em novas bases de treinamento ('base_train') e teste ('base_test') mantendo a proporção de 200 tweets como teste (40%) e os outros 300 (60%) como treinamento, já que isso é especificado no parâmetro 'test_size' da função. O parâmetro 'random_state' com valor None garante que a cada vez que o loop repetir, uma nova divisão será feita, se ele recebesse um valor int específico a função faria a exata mesma divisão em todas as repetições do loop."
   ],
   "metadata": {}
  },
  {
   "cell_type": "code",
   "execution_count": null,
   "source": [
    "lista_acuracias = []\r\n",
    "for i in range(100):\r\n",
    "    #separando a base completa aleatoriamente entre train e test, mantendo a proporção de 200 tweets como teste (40%) e os outros 300 (60%) como treinamento\r\n",
    "    base_train, base_test = train_test_split(base_inteira_tweets, test_size=0.4, random_state=None)\r\n",
    "    #criando filtros para separar os tweets relevantes dos irrelevantes\r\n",
    "    filtro_nao_relevante = base_train['Classificação (relevante = 1, não relevante = 0)']==0\r\n",
    "    filtro_relevante = base_train['Classificação (relevante = 1, não relevante = 0)']==1\r\n",
    "\r\n",
    "    #separando em dois DFs diferentes os tweets relevantes e irrelevantes\r\n",
    "    relevantes_train = base_train[filtro_relevante]\r\n",
    "    nao_relevantes_train = base_train[filtro_nao_relevante]\r\n",
    "\r\n",
    "    #criando uma string grande para armazenar todos os tweets de cada classificação\r\n",
    "    relevantes_train_txt = ''\r\n",
    "    for tweet in relevantes_train['Tweets']:\r\n",
    "        relevantes_train_txt += \" \"\r\n",
    "        relevantes_train_txt += str(tweet)\r\n",
    "    nao_relevantes_train_txt = ''\r\n",
    "    for tweet in nao_relevantes_train['Tweets']:\r\n",
    "        nao_relevantes_train_txt += \" \"\r\n",
    "        nao_relevantes_train_txt += str(tweet)\r\n",
    "    \r\n",
    "    #organizando os tweets em listas de palavras e pandas Series \r\n",
    "\r\n",
    "    #fazendo a lista com todas as palavaras dos tweets\r\n",
    "    todas_palavras_relevantes = relevantes_train_txt.split()\r\n",
    "    todas_palavras_irrelevantes = nao_relevantes_train_txt.split()\r\n",
    "\r\n",
    "    #transformando a lista em uma panda Series\r\n",
    "    serie_relevante = pd.Series(todas_palavras_relevantes)\r\n",
    "    serie_irrelevante = pd.Series(todas_palavras_irrelevantes)\r\n",
    "\r\n",
    "    tabela_relevante = serie_relevante.value_counts()\r\n",
    "    tabela_irrelevante = serie_irrelevante.value_counts()\r\n",
    "\r\n",
    "    #organizando o conjunto universo de todas as palavras\r\n",
    "\r\n",
    "    palavras = relevantes_train_txt + nao_relevantes_train_txt\r\n",
    "    todas_palavras = palavras.split()\r\n",
    "    serie_palavras = pd.Series(todas_palavras)\r\n",
    "    tabela_palavras = serie_palavras.value_counts(normalize=True)\r\n",
    "\r\n",
    "\r\n",
    "    palavras_sem_repeticao = []\r\n",
    "    for e in todas_palavras:\r\n",
    "        if e not in palavras_sem_repeticao:\r\n",
    "            palavras_sem_repeticao.append(e)\r\n",
    "    \r\n",
    "    #calculando a probabilidade de um tweet ser relevante ou irrelevante\r\n",
    "    probR = len(serie_relevante)/len(serie_palavras)\r\n",
    "    probIR = len(serie_irrelevante)/len(serie_palavras)\r\n",
    "\r\n",
    "    base_test['Classificacao_Naive_Bayes'] = base_test['Tweets'].apply(Classificacao)\r\n",
    "    verdadeiros_positivos=base_test.loc[(base_test['Classificacao_Naive_Bayes']==1)&(base_test['Classificação (relevante = 1, não relevante = 0)']==1),:].shape[0]\r\n",
    "    verdadeiros_negativos=base_test.loc[(base_test['Classificacao_Naive_Bayes']==0)&(base_test['Classificação (relevante = 1, não relevante = 0)']==0),:].shape[0]\r\n",
    "    acuracia = ((verdadeiros_positivos+verdadeiros_negativos)/base_test.shape[0])*100\r\n",
    "    lista_acuracias.append(acuracia)"
   ],
   "outputs": [],
   "metadata": {}
  },
  {
   "cell_type": "code",
   "execution_count": 83,
   "source": [
    "#Demonstrando que o processo foi repetido 100 vezes e, portanto, temos 100 contagens de acurácias\r\n",
    "len(lista_acuracias)"
   ],
   "outputs": [
    {
     "output_type": "execute_result",
     "data": {
      "text/plain": [
       "100"
      ]
     },
     "metadata": {},
     "execution_count": 83
    }
   ],
   "metadata": {}
  },
  {
   "cell_type": "code",
   "execution_count": 84,
   "source": [
    "plt.figure(figsize=(20, 20))\r\n",
    "plt.hist(lista_acuracias, bins=10, edgecolor='white', color='crimson', density=True)\r\n",
    "plt.title('Histograma de acurácia do classificador em 100 simulações')\r\n",
    "plt.ylabel('densidade')\r\n",
    "plt.xlabel('acurácia [em %]')"
   ],
   "outputs": [
    {
     "output_type": "execute_result",
     "data": {
      "text/plain": [
       "Text(0.5, 0, 'acurácia [em %]')"
      ]
     },
     "metadata": {},
     "execution_count": 84
    },
    {
     "output_type": "display_data",
     "data": {
      "image/png": "[encoded data removed]",
      "text/plain": [
       "<Figure size 1440x1440 with 1 Axes>"
      ]
     },
     "metadata": {
      "needs_background": "light"
     }
    }
   ],
   "metadata": {}
  },
  {
   "cell_type": "markdown",
   "source": [
    "___\n",
    "## Aperfeiçoamento:\n",
    "\n",
    "Trabalhos que conseguirem pelo menos conceito B vão evoluir em conceito dependendo da quantidade de itens avançados:\n",
    "\n",
    "* IMPLEMENTOU outras limpezas e transformações que não afetem a qualidade da informação contida nos tweets. Ex: stemming, lemmatization, stopwords\n",
    "* CORRIGIU separação de espaços entre palavras e emojis ou entre emojis e emojis\n",
    "* CRIOU categorias intermediárias de relevância baseadas na probabilidade: ex.: muito relevante, relevante, neutro, irrelevante, muito irrelevante. Pelo menos quatro categorias, com adição de mais tweets na base, conforme enunciado. (OBRIGATÓRIO PARA TRIOS, sem contar como item avançado)\n",
    "* EXPLICOU porquê não pode usar o próprio classificador para gerar mais amostras de treinamento\n",
    "* PROPÔS diferentes cenários para Naïve Bayes fora do contexto do projeto\n",
    "* SUGERIU e EXPLICOU melhorias reais com indicações concretas de como implementar (indicar como fazer e indicar material de pesquisa)\n",
    "* FEZ o item 6. Qualidade do Classificador a partir de novas separações dos tweets entre Treinamento e Teste descrito no enunciado do projeto (OBRIGATÓRIO para conceitos A ou A+)"
   ],
   "metadata": {}
  },
  {
   "cell_type": "code",
   "execution_count": null,
   "source": [],
   "outputs": [],
   "metadata": {}
  },
  {
   "cell_type": "markdown",
   "source": [
    "___\n",
    "## Referências"
   ],
   "metadata": {}
  },
  {
   "cell_type": "markdown",
   "source": [
    "[Naive Bayes and Text Classification](https://arxiv.org/pdf/1410.5329.pdf)  **Mais completo**\n",
    "\n",
    "[A practical explanation of a Naive Bayes Classifier](https://monkeylearn.com/blog/practical-explanation-naive-bayes-classifier/) **Mais simples**"
   ],
   "metadata": {}
  },
  {
   "cell_type": "code",
   "execution_count": null,
   "source": [],
   "outputs": [],
   "metadata": {}
  }
 ],
 "metadata": {
  "interpreter": {
   "hash": "96eb50e1d44aed467dc8f759cb08c32fbfa9babcf79c554e2d0e5feb04653a10"
  },
  "kernelspec": {
   "name": "python3",
   "display_name": "Python 3.8.5 64-bit ('base': conda)"
  },
  "language_info": {
   "codemirror_mode": {
    "name": "ipython",
    "version": 3
   },
   "file_extension": ".py",
   "mimetype": "text/x-python",
   "name": "python",
   "nbconvert_exporter": "python",
   "pygments_lexer": "ipython3",
   "version": "3.8.5"
  }
 },
 "nbformat": 4,
 "nbformat_minor": 4
}